{
 "cells": [
  {
   "cell_type": "code",
   "execution_count": null,
   "id": "f1931205-8c05-40ca-b266-c0f14e26cff3",
   "metadata": {
    "tags": [
     "hide-cell"
    ]
   },
   "outputs": [],
   "source": [
    "# Install the necessary dependencies\n",
    "\n",
    "import os\n",
    "import sys\n",
    "import numpy as np\n",
    "import pandas as pd\n",
    "!{sys.executable} -m pip install --quiet ipython"
   ]
  },
  {
   "cell_type": "markdown",
   "id": "c35520d3",
   "metadata": {
    "tags": [
     "remove-cell"
    ]
   },
   "source": [
    "---\n",
    "license:\n",
    "    code: MIT\n",
    "    content: CC-BY-4.0\n",
    "github: https://github.com/ocademy-ai/machine-learning\n",
    "venue: By Ocademy\n",
    "open_access: true\n",
    "bibliography:\n",
    "  - https://raw.githubusercontent.com/ocademy-ai/machine-learning/main/open-machine-learning-jupyter-book/references.bib\n",
    "---"
   ]
  },
  {
   "cell_type": "markdown",
   "id": "70c2694f-98d3-4846-a4d2-a88ac4da4a56",
   "metadata": {},
   "source": [
    "# Data Selection "
   ]
  },
  {
   "cell_type": "markdown",
   "id": "3ca294fb-5274-4c7b-b293-a374877b524b",
   "metadata": {},
   "source": [
    "## Overview\n",
    "\n",
    "In this section, we'll focus on how to slice, dice, and generally get and set subsets of Pandas objects."
   ]
  },
  {
   "cell_type": "markdown",
   "id": "281fa7e2",
   "metadata": {},
   "source": [
    "## Selection by label"
   ]
  },
  {
   "cell_type": "markdown",
   "id": "8cfbc1d9-62b9-4f12-a249-0fb7af77d6f3",
   "metadata": {
    "attributes": {
     "classes": [
      "warning"
     ],
     "id": ""
    }
   },
   "source": [
    "Whether a copy or a reference is returned for a setting operation, may depend on the context. This is sometimes called `chained assignment` and should be avoided."
   ]
  },
  {
   "cell_type": "code",
   "execution_count": 2,
   "id": "19faf0a0",
   "metadata": {
    "attributes": {
     "classes": [
      "code-cell"
     ],
     "id": ""
    }
   },
   "outputs": [],
   "source": [
    "dfl = pd.DataFrame(np.random.randn(5, 4),\n",
    "                   columns=list('ABCD'),\n",
    "                   index=pd.date_range('20130101', periods=5))"
   ]
  },
  {
   "cell_type": "markdown",
   "metadata": {},
   "source": [
    "`.loc` is strict when you present slicers that are not compatible (or convertible) with the index type. For example using integers in a `DatetimeIndex`. These will raise a `TypeError`."
   ]
  },
  {
   "cell_type": "code",
   "execution_count": 3,
   "id": "5cd6165e",
   "metadata": {
    "attributes": {
     "classes": [
      "code-cell"
     ],
     "id": ""
    },
    "tags": []
   },
   "outputs": [],
   "source": [
    "# Remove # and run to see the TypeError\n",
    "\n",
    "# dfl.loc[2:3]"
   ]
  },
  {
   "cell_type": "markdown",
   "id": "f2b699ce-d01f-4afa-8323-c43b9df24b38",
   "metadata": {
    "attributes": {
     "classes": [
      "warning"
     ],
     "id": ""
    }
   },
   "source": [
    "String likes in slicing can be convertible to the type of the index and lead to natural slicing."
   ]
  },
  {
   "cell_type": "code",
   "execution_count": 4,
   "id": "3f5fb2f0",
   "metadata": {},
   "outputs": [
    {
     "data": {
      "text/html": [
       "<div>\n",
       "<style scoped>\n",
       "    .dataframe tbody tr th:only-of-type {\n",
       "        vertical-align: middle;\n",
       "    }\n",
       "\n",
       "    .dataframe tbody tr th {\n",
       "        vertical-align: top;\n",
       "    }\n",
       "\n",
       "    .dataframe thead th {\n",
       "        text-align: right;\n",
       "    }\n",
       "</style>\n",
       "<table border=\"1\" class=\"dataframe\">\n",
       "  <thead>\n",
       "    <tr style=\"text-align: right;\">\n",
       "      <th></th>\n",
       "      <th>A</th>\n",
       "      <th>B</th>\n",
       "      <th>C</th>\n",
       "      <th>D</th>\n",
       "    </tr>\n",
       "  </thead>\n",
       "  <tbody>\n",
       "    <tr>\n",
       "      <th>2013-01-02</th>\n",
       "      <td>1.355646</td>\n",
       "      <td>0.066032</td>\n",
       "      <td>0.671699</td>\n",
       "      <td>-0.088562</td>\n",
       "    </tr>\n",
       "    <tr>\n",
       "      <th>2013-01-03</th>\n",
       "      <td>-0.343810</td>\n",
       "      <td>-0.321581</td>\n",
       "      <td>-1.935448</td>\n",
       "      <td>-1.774556</td>\n",
       "    </tr>\n",
       "    <tr>\n",
       "      <th>2013-01-04</th>\n",
       "      <td>1.666789</td>\n",
       "      <td>-1.900926</td>\n",
       "      <td>0.346283</td>\n",
       "      <td>1.498414</td>\n",
       "    </tr>\n",
       "  </tbody>\n",
       "</table>\n",
       "</div>"
      ],
      "text/plain": [
       "                   A         B         C         D\n",
       "2013-01-02  1.355646  0.066032  0.671699 -0.088562\n",
       "2013-01-03 -0.343810 -0.321581 -1.935448 -1.774556\n",
       "2013-01-04  1.666789 -1.900926  0.346283  1.498414"
      ]
     },
     "execution_count": 4,
     "metadata": {},
     "output_type": "execute_result"
    }
   ],
   "source": [
    "dfl.loc['20130102':'20130104']"
   ]
  },
  {
   "cell_type": "code",
   "execution_count": 5,
   "id": "abe5968b-ffe5-4302-9918-81a1d97ed568",
   "metadata": {
    "tags": [
     "hide-cell"
    ]
   },
   "outputs": [
    {
     "data": {
      "text/html": [
       "\n",
       "\n",
       "\n",
       "<link rel=\"stylesheet\" href=\"https://ocademy-ai.github.io/machine-learning/_static/style.css\">\n",
       "\n",
       "<div class='full-width docutils' >\n",
       "  <div class=\"admonition note pandastutor\" name=\"html-admonition\" style=\"margin-right:20%\">\n",
       "    <p class=\"admonition-title pandastutor\">Let's visualize it! 🎥</p>\n",
       "    <div class=\"pandastutor inner\" style=\"height:730px;\">\n",
       "      <iframe frameborder=\"0\" scrolling=\"no\" src=\"https://pandastutor.com/vis.html#code=import%20pandas%20as%20pd%0Aimport%20io%0Aimport%20numpy%20as%20np%0Aimport%20random%0Anp.random.seed%20%2810%29%0Adfl%20%3D%20pd.DataFrame%28np.random.randn%285,%204%29,%0A%20%20%20%20%20%20%20%20%20%20%20%20%20%20%20%20%20%20%20columns%3Dlist%28'ABCD'%29,%0A%20%20%20%20%20%20%20%20%20%20%20%20%20%20%20%20%20%20%20index%3Dpd.date_range%28'20130101',%20periods%3D5%29%29%0Adfl%0Adfl.loc%5B'20130102'%3A'20130104'%5D&d=2023-07-13&lang=py&v=v1\"> </iframe>\n",
       "    </div>\n",
       "  </div>\n",
       "</div>\n",
       "\n"
      ],
      "text/plain": [
       "<IPython.core.display.HTML object>"
      ]
     },
     "metadata": {},
     "output_type": "display_data"
    }
   ],
   "source": [
    "from IPython.display import HTML\n",
    "\n",
    "display(\n",
    "    HTML(\n",
    "        \"\"\"\n",
    "\n",
    "\n",
    "<link rel=\"stylesheet\" href=\"https://ocademy-ai.github.io/machine-learning/_static/style.css\">\n",
    "\n",
    "<div class='full-width docutils' >\n",
    "  <div class=\"admonition note pandastutor\" name=\"html-admonition\" style=\"margin-right:20%\">\n",
    "    <p class=\"admonition-title pandastutor\">Let's visualize it! 🎥</p>\n",
    "    <div class=\"pandastutor inner\" style=\"height:730px;\">\n",
    "      <iframe frameborder=\"0\" scrolling=\"no\" src=\"https://pandastutor.com/vis.html#code=import%20pandas%20as%20pd%0Aimport%20io%0Aimport%20numpy%20as%20np%0Aimport%20random%0Anp.random.seed%20%2810%29%0Adfl%20%3D%20pd.DataFrame%28np.random.randn%285,%204%29,%0A%20%20%20%20%20%20%20%20%20%20%20%20%20%20%20%20%20%20%20columns%3Dlist%28'ABCD'%29,%0A%20%20%20%20%20%20%20%20%20%20%20%20%20%20%20%20%20%20%20index%3Dpd.date_range%28'20130101',%20periods%3D5%29%29%0Adfl%0Adfl.loc%5B'20130102'%3A'20130104'%5D&d=2023-07-13&lang=py&v=v1\"> </iframe>\n",
    "    </div>\n",
    "  </div>\n",
    "</div>\n",
    "\n",
    "\"\"\"\n",
    "    )\n",
    ")\n"
   ]
  },
  {
   "cell_type": "markdown",
   "id": "f3c046d5-19dc-47cb-828f-880f008d02d4",
   "metadata": {
    "attributes": {
     "classes": [
      "warning"
     ],
     "id": ""
    }
   },
   "source": [
    "Pandas will raise a `KeyError` if indexing with a list with missing labels."
   ]
  },
  {
   "cell_type": "markdown",
   "id": "29221dda",
   "metadata": {},
   "source": [
    "Pandas provides a suite of methods in order to have **purely label-based indexing**. This is a strict inclusion-based protocol. Every label asked for must be in the index, or a `KeyError` will be raised. When slicing, both the start bound **AND** the stop bound are included, if present in the index. Integers are valid labels, but they refer to the label **and not the position**.\n",
    "\n",
    "- The `.loc` attribute is the primary access method. The following are valid inputs:\n",
    "\n",
    "- A single label, e.g. `5` or `'a'` (Note that `5` is interpreted as a label of the index. This use is not an integer position along the index.).\n",
    "\n",
    "- A list or array of labels `['a', 'b', 'c']`.\n",
    "\n",
    "- A slice object with labels `'a':'f'` (Note that contrary to usual Python slices, both the start and the stop are included, when present in the index!\n",
    "\n",
    "- A boolean array.\n",
    "\n",
    "- A `callable`."
   ]
  },
  {
   "cell_type": "code",
   "execution_count": 6,
   "id": "8a174f11",
   "metadata": {},
   "outputs": [
    {
     "data": {
      "text/plain": [
       "c    0.967660\n",
       "d    1.382778\n",
       "e    0.052823\n",
       "f    0.040903\n",
       "dtype: float64"
      ]
     },
     "execution_count": 6,
     "metadata": {},
     "output_type": "execute_result"
    }
   ],
   "source": [
    "s1 = pd.Series(np.random.randn(6), index=list('abcdef'))\n",
    "s1\n",
    "s1.loc['c':]"
   ]
  },
  {
   "cell_type": "code",
   "execution_count": 7,
   "id": "b276bd82-797f-4eb6-8886-51153d771bb0",
   "metadata": {
    "tags": [
     "hide-cell"
    ]
   },
   "outputs": [
    {
     "data": {
      "text/html": [
       "\n",
       "\n",
       "\n",
       "<link rel=\"stylesheet\" href=\"https://ocademy-ai.github.io/machine-learning/_static/style.css\">\n",
       "\n",
       "<div class='full-width docutils' >\n",
       "  <div class=\"admonition note pandastutor\" name=\"html-admonition\" style=\"margin-right:20%\">\n",
       "    <p class=\"admonition-title pandastutor\">Let's visualize it! 🎥</p>\n",
       "    <div class=\"pandastutor inner\" style=\"height:730px;\">\n",
       "      <iframe frameborder=\"0\" scrolling=\"no\" src=\"https://pandastutor.com/vis.html#code=import%20pandas%20as%20pd%0Aimport%20io%0Aimport%20numpy%20as%20np%0Aimport%20random%0Anp.random.seed%2810%29%0As1%20%3D%20pd.Series%28np.random.randn%286%29,%20index%3Dlist%28'abcdef'%29%29%0As1.loc%5B'c'%3A%5D%0A&d=2023-07-14&lang=py&v=v1\"> </iframe>\n",
       "    </div>\n",
       "  </div>\n",
       "</div>\n",
       "\n"
      ],
      "text/plain": [
       "<IPython.core.display.HTML object>"
      ]
     },
     "metadata": {},
     "output_type": "display_data"
    }
   ],
   "source": [
    "from IPython.display import HTML\n",
    "\n",
    "display(\n",
    "    HTML(\n",
    "        \"\"\"\n",
    "\n",
    "\n",
    "<link rel=\"stylesheet\" href=\"https://ocademy-ai.github.io/machine-learning/_static/style.css\">\n",
    "\n",
    "<div class='full-width docutils' >\n",
    "  <div class=\"admonition note pandastutor\" name=\"html-admonition\" style=\"margin-right:20%\">\n",
    "    <p class=\"admonition-title pandastutor\">Let's visualize it! 🎥</p>\n",
    "    <div class=\"pandastutor inner\" style=\"height:730px;\">\n",
    "      <iframe frameborder=\"0\" scrolling=\"no\" src=\"https://pandastutor.com/vis.html#code=import%20pandas%20as%20pd%0Aimport%20io%0Aimport%20numpy%20as%20np%0Aimport%20random%0Anp.random.seed%2810%29%0As1%20%3D%20pd.Series%28np.random.randn%286%29,%20index%3Dlist%28'abcdef'%29%29%0As1.loc%5B'c'%3A%5D%0A&d=2023-07-14&lang=py&v=v1\"> </iframe>\n",
    "    </div>\n",
    "  </div>\n",
    "</div>\n",
    "\n",
    "\"\"\"\n",
    "    )\n",
    ")\n"
   ]
  },
  {
   "cell_type": "code",
   "execution_count": 8,
   "id": "11e56acc",
   "metadata": {},
   "outputs": [
    {
     "data": {
      "text/plain": [
       "-0.7587092066683028"
      ]
     },
     "execution_count": 8,
     "metadata": {},
     "output_type": "execute_result"
    }
   ],
   "source": [
    "s1.loc['b']"
   ]
  },
  {
   "cell_type": "code",
   "execution_count": 9,
   "id": "74a7ae51-b334-4d5f-b9a2-e2080958663f",
   "metadata": {
    "tags": [
     "hide-cell"
    ]
   },
   "outputs": [
    {
     "data": {
      "text/html": [
       "\n",
       "\n",
       "\n",
       "<link rel=\"stylesheet\" href=\"https://ocademy-ai.github.io/machine-learning/_static/style.css\">\n",
       "<div class='full-width docutils' >\n",
       "  <div class=\"admonition note pandastutor\" name=\"html-admonition\" style=\"margin-right:20%\">\n",
       "    <p class=\"admonition-title pandastutor\">Let's visualize it! 🎥</p>\n",
       "    <div class=\"pandastutor inner\" style=\"height:630px;\">\n",
       "      <iframe frameborder=\"0\" scrolling=\"no\" src=\"https://pandastutor.com/vis.html#code=import%20pandas%20as%20pd%0Aimport%20io%0Aimport%20numpy%20as%20np%0Aimport%20random%0Anp.random.seed%2810%29%0As1%20%3D%20pd.Series%28np.random.randn%286%29,%20index%3Dlist%28'abcdef'%29%29%0As1.loc%5B'b'%5D%0A&d=2023-07-14&lang=py&v=v1\"> </iframe>\n",
       "    </div>\n",
       "  </div>\n",
       "</div>\n",
       "\n",
       "\n"
      ],
      "text/plain": [
       "<IPython.core.display.HTML object>"
      ]
     },
     "metadata": {},
     "output_type": "display_data"
    }
   ],
   "source": [
    "from IPython.display import HTML\n",
    "\n",
    "display(\n",
    "    HTML(\n",
    "        \"\"\"\n",
    "\n",
    "\n",
    "<link rel=\"stylesheet\" href=\"https://ocademy-ai.github.io/machine-learning/_static/style.css\">\n",
    "<div class='full-width docutils' >\n",
    "  <div class=\"admonition note pandastutor\" name=\"html-admonition\" style=\"margin-right:20%\">\n",
    "    <p class=\"admonition-title pandastutor\">Let's visualize it! 🎥</p>\n",
    "    <div class=\"pandastutor inner\" style=\"height:630px;\">\n",
    "      <iframe frameborder=\"0\" scrolling=\"no\" src=\"https://pandastutor.com/vis.html#code=import%20pandas%20as%20pd%0Aimport%20io%0Aimport%20numpy%20as%20np%0Aimport%20random%0Anp.random.seed%2810%29%0As1%20%3D%20pd.Series%28np.random.randn%286%29,%20index%3Dlist%28'abcdef'%29%29%0As1.loc%5B'b'%5D%0A&d=2023-07-14&lang=py&v=v1\"> </iframe>\n",
    "    </div>\n",
    "  </div>\n",
    "</div>\n",
    "\n",
    "\n",
    "\"\"\"\n",
    "    )\n",
    ")\n"
   ]
  },
  {
   "cell_type": "markdown",
   "id": "eb2dbf2d-cdd9-42e4-b374-fc7944f1996f",
   "metadata": {},
   "source": [
    "Note that the setting works as well:"
   ]
  },
  {
   "cell_type": "code",
   "execution_count": 10,
   "id": "8fe78c41",
   "metadata": {},
   "outputs": [
    {
     "data": {
      "text/plain": [
       "a    0.451651\n",
       "b   -0.758709\n",
       "c    0.000000\n",
       "d    0.000000\n",
       "e    0.000000\n",
       "f    0.000000\n",
       "dtype: float64"
      ]
     },
     "execution_count": 10,
     "metadata": {},
     "output_type": "execute_result"
    }
   ],
   "source": [
    "s1.loc['c':] = 0\n",
    "s1"
   ]
  },
  {
   "cell_type": "code",
   "execution_count": 11,
   "id": "e32f82e4-6b3e-48a7-ab56-c6ea820274e5",
   "metadata": {
    "tags": [
     "hide-cell"
    ]
   },
   "outputs": [
    {
     "data": {
      "text/html": [
       "\n",
       "\n",
       "\n",
       "<link rel=\"stylesheet\" href=\"https://ocademy-ai.github.io/machine-learning/_static/style.css\">\n",
       "<div class='full-width docutils' >\n",
       "  <div class=\"admonition note pandastutor\" name=\"html-admonition\" style=\"margin-right:20%\">\n",
       "    <p class=\"admonition-title pandastutor\">Let's visualize it! 🎥</p>\n",
       "    <div class=\"pandastutor inner\" style=\"height:630px;\">\n",
       "      <iframe frameborder=\"0\" scrolling=\"no\" src=\"https://pandastutor.com/vis.html#code=import%20pandas%20as%20pd%0Aimport%20io%0Aimport%20numpy%20as%20np%0Aimport%20random%0Anp.random.seed%2810%29%0As1%20%3D%20pd.Series%28np.random.randn%286%29,%20index%3Dlist%28'abcdef'%29%29%0As1.loc%5B'c'%3A%5D%20%3D%200%0As1&d=2023-07-14&lang=py&v=v1\"> </iframe>\n",
       "    </div>\n",
       "  </div>\n",
       "</div>\n"
      ],
      "text/plain": [
       "<IPython.core.display.HTML object>"
      ]
     },
     "metadata": {},
     "output_type": "display_data"
    }
   ],
   "source": [
    "from IPython.display import HTML\n",
    "\n",
    "display(\n",
    "    HTML(\n",
    "        \"\"\"\n",
    "\n",
    "\n",
    "<link rel=\"stylesheet\" href=\"https://ocademy-ai.github.io/machine-learning/_static/style.css\">\n",
    "<div class='full-width docutils' >\n",
    "  <div class=\"admonition note pandastutor\" name=\"html-admonition\" style=\"margin-right:20%\">\n",
    "    <p class=\"admonition-title pandastutor\">Let's visualize it! 🎥</p>\n",
    "    <div class=\"pandastutor inner\" style=\"height:630px;\">\n",
    "      <iframe frameborder=\"0\" scrolling=\"no\" src=\"https://pandastutor.com/vis.html#code=import%20pandas%20as%20pd%0Aimport%20io%0Aimport%20numpy%20as%20np%0Aimport%20random%0Anp.random.seed%2810%29%0As1%20%3D%20pd.Series%28np.random.randn%286%29,%20index%3Dlist%28'abcdef'%29%29%0As1.loc%5B'c'%3A%5D%20%3D%200%0As1&d=2023-07-14&lang=py&v=v1\"> </iframe>\n",
    "    </div>\n",
    "  </div>\n",
    "</div>\n",
    "\"\"\"\n",
    "    )\n",
    ")\n"
   ]
  },
  {
   "cell_type": "code",
   "execution_count": 12,
   "id": "cfb25d9f",
   "metadata": {},
   "outputs": [
    {
     "data": {
      "text/html": [
       "<div>\n",
       "<style scoped>\n",
       "    .dataframe tbody tr th:only-of-type {\n",
       "        vertical-align: middle;\n",
       "    }\n",
       "\n",
       "    .dataframe tbody tr th {\n",
       "        vertical-align: top;\n",
       "    }\n",
       "\n",
       "    .dataframe thead th {\n",
       "        text-align: right;\n",
       "    }\n",
       "</style>\n",
       "<table border=\"1\" class=\"dataframe\">\n",
       "  <thead>\n",
       "    <tr style=\"text-align: right;\">\n",
       "      <th></th>\n",
       "      <th>A</th>\n",
       "      <th>B</th>\n",
       "      <th>C</th>\n",
       "      <th>D</th>\n",
       "    </tr>\n",
       "  </thead>\n",
       "  <tbody>\n",
       "    <tr>\n",
       "      <th>a</th>\n",
       "      <td>0.107626</td>\n",
       "      <td>-0.474740</td>\n",
       "      <td>0.464111</td>\n",
       "      <td>-2.031390</td>\n",
       "    </tr>\n",
       "    <tr>\n",
       "      <th>b</th>\n",
       "      <td>0.420842</td>\n",
       "      <td>0.235914</td>\n",
       "      <td>1.106442</td>\n",
       "      <td>0.970090</td>\n",
       "    </tr>\n",
       "    <tr>\n",
       "      <th>d</th>\n",
       "      <td>-0.704769</td>\n",
       "      <td>-0.816423</td>\n",
       "      <td>0.782506</td>\n",
       "      <td>-0.697123</td>\n",
       "    </tr>\n",
       "  </tbody>\n",
       "</table>\n",
       "</div>"
      ],
      "text/plain": [
       "          A         B         C         D\n",
       "a  0.107626 -0.474740  0.464111 -2.031390\n",
       "b  0.420842  0.235914  1.106442  0.970090\n",
       "d -0.704769 -0.816423  0.782506 -0.697123"
      ]
     },
     "execution_count": 12,
     "metadata": {},
     "output_type": "execute_result"
    }
   ],
   "source": [
    "df1 = pd.DataFrame(np.random.randn(6, 4),\n",
    "                   index=list('abcdef'),\n",
    "                   columns=list('ABCD'))\n",
    "df1\n",
    "df1.loc[['a', 'b', 'd'], :]"
   ]
  },
  {
   "cell_type": "code",
   "execution_count": 13,
   "id": "de1a7123-2c8e-4910-b435-cdd489baff5b",
   "metadata": {
    "tags": [
     "hide-cell"
    ]
   },
   "outputs": [
    {
     "data": {
      "text/html": [
       "\n",
       "\n",
       "\n",
       "\n",
       "<link rel=\"stylesheet\" href=\"https://ocademy-ai.github.io/machine-learning/_static/style.css\">\n",
       "<div class='full-width docutils' >\n",
       "  <div class=\"admonition note pandastutor\" name=\"html-admonition\" style=\"margin-right:20%\">\n",
       "    <p class=\"admonition-title pandastutor\">Let's visualize it! 🎥</p>\n",
       "    <div class=\"pandastutor inner\" style=\"height:680px;\">\n",
       "      <iframe frameborder=\"0\" scrolling=\"no\" src=\"https://pandastutor.com/vis.html#code=import%20pandas%20as%20pd%0Aimport%20io%0Aimport%20numpy%20as%20np%0Aimport%20random%0Anp.random.seed%2810%29%0Adf1%20%3D%20pd.DataFrame%28np.random.randn%286,%204%29,%0A%20%20%20%20%20%20%20%20%20%20%20%20%20%20%20%20%20%20%20index%3Dlist%28'abcdef'%29,%0A%20%20%20%20%20%20%20%20%20%20%20%20%20%20%20%20%20%20%20columns%3Dlist%28'ABCD'%29%29%0Adf1%0Adf1.loc%5B%5B'a',%20'b',%20'd'%5D,%20%3A%5D%0A&d=2023-07-14&lang=py&v=v1\"> </iframe>\n",
       "    </div>\n",
       "  </div>\n",
       "</div>\n"
      ],
      "text/plain": [
       "<IPython.core.display.HTML object>"
      ]
     },
     "metadata": {},
     "output_type": "display_data"
    }
   ],
   "source": [
    "from IPython.display import HTML\n",
    "\n",
    "display(\n",
    "    HTML(\n",
    "        \"\"\"\n",
    "\n",
    "\n",
    "\n",
    "<link rel=\"stylesheet\" href=\"https://ocademy-ai.github.io/machine-learning/_static/style.css\">\n",
    "<div class='full-width docutils' >\n",
    "  <div class=\"admonition note pandastutor\" name=\"html-admonition\" style=\"margin-right:20%\">\n",
    "    <p class=\"admonition-title pandastutor\">Let's visualize it! 🎥</p>\n",
    "    <div class=\"pandastutor inner\" style=\"height:680px;\">\n",
    "      <iframe frameborder=\"0\" scrolling=\"no\" src=\"https://pandastutor.com/vis.html#code=import%20pandas%20as%20pd%0Aimport%20io%0Aimport%20numpy%20as%20np%0Aimport%20random%0Anp.random.seed%2810%29%0Adf1%20%3D%20pd.DataFrame%28np.random.randn%286,%204%29,%0A%20%20%20%20%20%20%20%20%20%20%20%20%20%20%20%20%20%20%20index%3Dlist%28'abcdef'%29,%0A%20%20%20%20%20%20%20%20%20%20%20%20%20%20%20%20%20%20%20columns%3Dlist%28'ABCD'%29%29%0Adf1%0Adf1.loc%5B%5B'a',%20'b',%20'd'%5D,%20%3A%5D%0A&d=2023-07-14&lang=py&v=v1\"> </iframe>\n",
    "    </div>\n",
    "  </div>\n",
    "</div>\n",
    "\"\"\"\n",
    "    )\n",
    ")\n"
   ]
  },
  {
   "cell_type": "markdown",
   "id": "0493a65b-5915-4119-a2a8-00b0b8a728b0",
   "metadata": {},
   "source": [
    "Accessing via label slices:"
   ]
  },
  {
   "cell_type": "code",
   "execution_count": 14,
   "id": "2934e9e8",
   "metadata": {},
   "outputs": [
    {
     "data": {
      "text/html": [
       "<div>\n",
       "<style scoped>\n",
       "    .dataframe tbody tr th:only-of-type {\n",
       "        vertical-align: middle;\n",
       "    }\n",
       "\n",
       "    .dataframe tbody tr th {\n",
       "        vertical-align: top;\n",
       "    }\n",
       "\n",
       "    .dataframe thead th {\n",
       "        text-align: right;\n",
       "    }\n",
       "</style>\n",
       "<table border=\"1\" class=\"dataframe\">\n",
       "  <thead>\n",
       "    <tr style=\"text-align: right;\">\n",
       "      <th></th>\n",
       "      <th>A</th>\n",
       "      <th>B</th>\n",
       "      <th>C</th>\n",
       "    </tr>\n",
       "  </thead>\n",
       "  <tbody>\n",
       "    <tr>\n",
       "      <th>d</th>\n",
       "      <td>-0.704769</td>\n",
       "      <td>-0.816423</td>\n",
       "      <td>0.782506</td>\n",
       "    </tr>\n",
       "    <tr>\n",
       "      <th>e</th>\n",
       "      <td>-0.802719</td>\n",
       "      <td>0.521918</td>\n",
       "      <td>1.679560</td>\n",
       "    </tr>\n",
       "    <tr>\n",
       "      <th>f</th>\n",
       "      <td>-0.745141</td>\n",
       "      <td>-0.238899</td>\n",
       "      <td>-0.376112</td>\n",
       "    </tr>\n",
       "  </tbody>\n",
       "</table>\n",
       "</div>"
      ],
      "text/plain": [
       "          A         B         C\n",
       "d -0.704769 -0.816423  0.782506\n",
       "e -0.802719  0.521918  1.679560\n",
       "f -0.745141 -0.238899 -0.376112"
      ]
     },
     "execution_count": 14,
     "metadata": {},
     "output_type": "execute_result"
    }
   ],
   "source": [
    "df1.loc['d':, 'A':'C']"
   ]
  },
  {
   "cell_type": "markdown",
   "id": "29f4ac9b-3d4b-4199-a04a-b9ec886b26f6",
   "metadata": {},
   "source": [
    "For getting a cross-section using a label (equivalent to `df.xs('a')`):"
   ]
  },
  {
   "cell_type": "code",
   "execution_count": 15,
   "id": "ccbffe12",
   "metadata": {},
   "outputs": [
    {
     "data": {
      "text/plain": [
       "A    0.107626\n",
       "B   -0.474740\n",
       "C    0.464111\n",
       "D   -2.031390\n",
       "Name: a, dtype: float64"
      ]
     },
     "execution_count": 15,
     "metadata": {},
     "output_type": "execute_result"
    }
   ],
   "source": [
    "df1.loc['a']"
   ]
  },
  {
   "cell_type": "code",
   "execution_count": 16,
   "id": "c9570d12-8020-4328-94e8-91266619e666",
   "metadata": {
    "tags": [
     "hide-cell"
    ]
   },
   "outputs": [
    {
     "data": {
      "text/html": [
       "\n",
       "\n",
       "\n",
       "\n",
       "<div class='full-width docutils' >\n",
       "  <div class=\"admonition note pandastutor\" name=\"html-admonition\" style=\"margin-right:20%\">\n",
       "    <p class=\"admonition-title pandastutor\">Let's visualize it! 🎥</p>\n",
       "    <div class=\"pandastutor inner\" style=\"height:690px;\">\n",
       "      <iframe frameborder=\"0\" scrolling=\"no\" src=\"https://pandastutor.com/vis.html#code=import%20pandas%20as%20pd%0Aimport%20io%0Aimport%20numpy%20as%20np%0Aimport%20random%0Anp.random.seed%2810%29%0Adf1%20%3D%20pd.DataFrame%28np.random.randn%286,%204%29,%0A%20%20%20%20%20%20%20%20%20%20%20%20%20%20%20%20%20%20%20index%3Dlist%28'abcdef'%29,%0A%20%20%20%20%20%20%20%20%20%20%20%20%20%20%20%20%20%20%20columns%3Dlist%28'ABCD'%29%29%0Adf1%0Adf1.loc%5B'a'%5D&d=2023-07-14&lang=py&v=v1\"> </iframe>\n",
       "    </div>\n",
       "  </div>\n",
       "</div>\n",
       "\n"
      ],
      "text/plain": [
       "<IPython.core.display.HTML object>"
      ]
     },
     "metadata": {},
     "output_type": "display_data"
    }
   ],
   "source": [
    "from IPython.display import HTML\n",
    "\n",
    "display(\n",
    "    HTML(\n",
    "        \"\"\"\n",
    "\n",
    "\n",
    "\n",
    "<div class='full-width docutils' >\n",
    "  <div class=\"admonition note pandastutor\" name=\"html-admonition\" style=\"margin-right:20%\">\n",
    "    <p class=\"admonition-title pandastutor\">Let's visualize it! 🎥</p>\n",
    "    <div class=\"pandastutor inner\" style=\"height:690px;\">\n",
    "      <iframe frameborder=\"0\" scrolling=\"no\" src=\"https://pandastutor.com/vis.html#code=import%20pandas%20as%20pd%0Aimport%20io%0Aimport%20numpy%20as%20np%0Aimport%20random%0Anp.random.seed%2810%29%0Adf1%20%3D%20pd.DataFrame%28np.random.randn%286,%204%29,%0A%20%20%20%20%20%20%20%20%20%20%20%20%20%20%20%20%20%20%20index%3Dlist%28'abcdef'%29,%0A%20%20%20%20%20%20%20%20%20%20%20%20%20%20%20%20%20%20%20columns%3Dlist%28'ABCD'%29%29%0Adf1%0Adf1.loc%5B'a'%5D&d=2023-07-14&lang=py&v=v1\"> </iframe>\n",
    "    </div>\n",
    "  </div>\n",
    "</div>\n",
    "\n",
    "\"\"\"\n",
    "    )\n",
    ")\n"
   ]
  },
  {
   "cell_type": "markdown",
   "id": "589a2a99",
   "metadata": {},
   "source": [
    "For getting values with a boolean array:"
   ]
  },
  {
   "cell_type": "code",
   "execution_count": 17,
   "id": "e60fdddf",
   "metadata": {},
   "outputs": [
    {
     "data": {
      "text/plain": [
       "A     True\n",
       "B    False\n",
       "C     True\n",
       "D    False\n",
       "Name: a, dtype: bool"
      ]
     },
     "execution_count": 17,
     "metadata": {},
     "output_type": "execute_result"
    }
   ],
   "source": [
    "df1.loc['a'] > 0"
   ]
  },
  {
   "cell_type": "code",
   "execution_count": 18,
   "id": "4a9f2648-9f92-4077-a7ec-00836c2f28fd",
   "metadata": {
    "tags": [
     "hide-cell"
    ]
   },
   "outputs": [
    {
     "data": {
      "text/html": [
       "\n",
       "\n",
       "\n",
       "\n",
       "<div class='full-width docutils' >\n",
       "  <div class=\"admonition note pandastutor\" name=\"html-admonition\" style=\"margin-right:20%\">\n",
       "    <p class=\"admonition-title pandastutor\">Let's visualize it! 🎥</p>\n",
       "    <div class=\"pandastutor inner\" style=\"height:650px;\">\n",
       "      <iframe frameborder=\"0\" scrolling=\"no\" src=\"https://pandastutor.com/vis.html#code=import%20pandas%20as%20pd%0Aimport%20io%0Aimport%20numpy%20as%20np%0Aimport%20random%0Anp.random.seed%2810%29%0Adf1%20%3D%20pd.DataFrame%28np.random.randn%286,%204%29,%0A%20%20%20%20%20%20%20%20%20%20%20%20%20%20%20%20%20%20%20index%3Dlist%28'abcdef'%29,%0A%20%20%20%20%20%20%20%20%20%20%20%20%20%20%20%20%20%20%20columns%3Dlist%28'ABCD'%29%29%0Adf1%0Adf1.loc%5B'a'%5D%20%3E%200&d=2023-07-14&lang=py&v=v1\"> </iframe>\n",
       "    </div>\n",
       "  </div>\n",
       "</div>\n"
      ],
      "text/plain": [
       "<IPython.core.display.HTML object>"
      ]
     },
     "metadata": {},
     "output_type": "display_data"
    }
   ],
   "source": [
    "from IPython.display import HTML\n",
    "\n",
    "display(\n",
    "    HTML(\n",
    "        \"\"\"\n",
    "\n",
    "\n",
    "\n",
    "<div class='full-width docutils' >\n",
    "  <div class=\"admonition note pandastutor\" name=\"html-admonition\" style=\"margin-right:20%\">\n",
    "    <p class=\"admonition-title pandastutor\">Let's visualize it! 🎥</p>\n",
    "    <div class=\"pandastutor inner\" style=\"height:650px;\">\n",
    "      <iframe frameborder=\"0\" scrolling=\"no\" src=\"https://pandastutor.com/vis.html#code=import%20pandas%20as%20pd%0Aimport%20io%0Aimport%20numpy%20as%20np%0Aimport%20random%0Anp.random.seed%2810%29%0Adf1%20%3D%20pd.DataFrame%28np.random.randn%286,%204%29,%0A%20%20%20%20%20%20%20%20%20%20%20%20%20%20%20%20%20%20%20index%3Dlist%28'abcdef'%29,%0A%20%20%20%20%20%20%20%20%20%20%20%20%20%20%20%20%20%20%20columns%3Dlist%28'ABCD'%29%29%0Adf1%0Adf1.loc%5B'a'%5D%20%3E%200&d=2023-07-14&lang=py&v=v1\"> </iframe>\n",
    "    </div>\n",
    "  </div>\n",
    "</div>\n",
    "\"\"\"\n",
    "    )\n",
    ")\n"
   ]
  },
  {
   "cell_type": "code",
   "execution_count": 19,
   "id": "d6226934",
   "metadata": {},
   "outputs": [
    {
     "data": {
      "text/html": [
       "<div>\n",
       "<style scoped>\n",
       "    .dataframe tbody tr th:only-of-type {\n",
       "        vertical-align: middle;\n",
       "    }\n",
       "\n",
       "    .dataframe tbody tr th {\n",
       "        vertical-align: top;\n",
       "    }\n",
       "\n",
       "    .dataframe thead th {\n",
       "        text-align: right;\n",
       "    }\n",
       "</style>\n",
       "<table border=\"1\" class=\"dataframe\">\n",
       "  <thead>\n",
       "    <tr style=\"text-align: right;\">\n",
       "      <th></th>\n",
       "      <th>A</th>\n",
       "      <th>C</th>\n",
       "    </tr>\n",
       "  </thead>\n",
       "  <tbody>\n",
       "    <tr>\n",
       "      <th>a</th>\n",
       "      <td>0.107626</td>\n",
       "      <td>0.464111</td>\n",
       "    </tr>\n",
       "    <tr>\n",
       "      <th>b</th>\n",
       "      <td>0.420842</td>\n",
       "      <td>1.106442</td>\n",
       "    </tr>\n",
       "    <tr>\n",
       "      <th>c</th>\n",
       "      <td>0.103145</td>\n",
       "      <td>-0.527006</td>\n",
       "    </tr>\n",
       "    <tr>\n",
       "      <th>d</th>\n",
       "      <td>-0.704769</td>\n",
       "      <td>0.782506</td>\n",
       "    </tr>\n",
       "    <tr>\n",
       "      <th>e</th>\n",
       "      <td>-0.802719</td>\n",
       "      <td>1.679560</td>\n",
       "    </tr>\n",
       "    <tr>\n",
       "      <th>f</th>\n",
       "      <td>-0.745141</td>\n",
       "      <td>-0.376112</td>\n",
       "    </tr>\n",
       "  </tbody>\n",
       "</table>\n",
       "</div>"
      ],
      "text/plain": [
       "          A         C\n",
       "a  0.107626  0.464111\n",
       "b  0.420842  1.106442\n",
       "c  0.103145 -0.527006\n",
       "d -0.704769  0.782506\n",
       "e -0.802719  1.679560\n",
       "f -0.745141 -0.376112"
      ]
     },
     "execution_count": 19,
     "metadata": {},
     "output_type": "execute_result"
    }
   ],
   "source": [
    "df1.loc[:, df1.loc['a'] > 0]"
   ]
  },
  {
   "cell_type": "code",
   "execution_count": 20,
   "id": "f8ae65cd-dbea-4f40-a464-7b07554b9b11",
   "metadata": {
    "tags": [
     "hide-cell"
    ]
   },
   "outputs": [
    {
     "data": {
      "text/html": [
       "\n",
       "\n",
       "\n",
       "\n",
       "<div class='full-width docutils' >\n",
       "  <div class=\"admonition note pandastutor\" name=\"html-admonition\" style=\"margin-right:20%\">\n",
       "    <p class=\"admonition-title pandastutor\">Let's visualize it! 🎥</p>\n",
       "    <div class=\"pandastutor inner\" style=\"height:700px;\">\n",
       "      <iframe frameborder=\"0\" scrolling=\"no\" src=\"https://pandastutor.com/vis.html#code=import%20pandas%20as%20pd%0Aimport%20io%0Aimport%20numpy%20as%20np%0Aimport%20random%0Anp.random.seed%2810%29%0Adf1%20%3D%20pd.DataFrame%28np.random.randn%286,%204%29,%0A%20%20%20%20%20%20%20%20%20%20%20%20%20%20%20%20%20%20%20index%3Dlist%28'abcdef'%29,%0A%20%20%20%20%20%20%20%20%20%20%20%20%20%20%20%20%20%20%20columns%3Dlist%28'ABCD'%29%29%0Adf1%0Adf1.loc%5B%3A,%20df1.loc%5B'a'%5D%20%3E%200%5D&d=2023-07-14&lang=py&v=v1\"> </iframe>\n",
       "    </div>\n",
       "  </div>\n",
       "</div>\n",
       "\n",
       "\n"
      ],
      "text/plain": [
       "<IPython.core.display.HTML object>"
      ]
     },
     "metadata": {},
     "output_type": "display_data"
    }
   ],
   "source": [
    "from IPython.display import HTML\n",
    "\n",
    "display(\n",
    "    HTML(\n",
    "        \"\"\"\n",
    "\n",
    "\n",
    "\n",
    "<div class='full-width docutils' >\n",
    "  <div class=\"admonition note pandastutor\" name=\"html-admonition\" style=\"margin-right:20%\">\n",
    "    <p class=\"admonition-title pandastutor\">Let's visualize it! 🎥</p>\n",
    "    <div class=\"pandastutor inner\" style=\"height:700px;\">\n",
    "      <iframe frameborder=\"0\" scrolling=\"no\" src=\"https://pandastutor.com/vis.html#code=import%20pandas%20as%20pd%0Aimport%20io%0Aimport%20numpy%20as%20np%0Aimport%20random%0Anp.random.seed%2810%29%0Adf1%20%3D%20pd.DataFrame%28np.random.randn%286,%204%29,%0A%20%20%20%20%20%20%20%20%20%20%20%20%20%20%20%20%20%20%20index%3Dlist%28'abcdef'%29,%0A%20%20%20%20%20%20%20%20%20%20%20%20%20%20%20%20%20%20%20columns%3Dlist%28'ABCD'%29%29%0Adf1%0Adf1.loc%5B%3A,%20df1.loc%5B'a'%5D%20%3E%200%5D&d=2023-07-14&lang=py&v=v1\"> </iframe>\n",
    "    </div>\n",
    "  </div>\n",
    "</div>\n",
    "\n",
    "\n",
    "\"\"\"\n",
    "    )\n",
    ")\n"
   ]
  },
  {
   "cell_type": "markdown",
   "id": "0e52a617",
   "metadata": {},
   "source": [
    "NA values in a boolean array propagate as `False`:"
   ]
  },
  {
   "cell_type": "code",
   "execution_count": 21,
   "id": "0ca93c29",
   "metadata": {
    "attributes": {
     "classes": [
      "code-cell"
     ],
     "id": ""
    }
   },
   "outputs": [
    {
     "data": {
      "text/plain": [
       "<BooleanArray>\n",
       "[True, False, True, False, <NA>, False]\n",
       "Length: 6, dtype: boolean"
      ]
     },
     "execution_count": 21,
     "metadata": {},
     "output_type": "execute_result"
    }
   ],
   "source": [
    "mask = pd.array([True, False, True, False, pd.NA, False], dtype=\"boolean\")\n",
    "mask"
   ]
  },
  {
   "cell_type": "code",
   "execution_count": 22,
   "id": "fd577bd5",
   "metadata": {},
   "outputs": [
    {
     "data": {
      "text/html": [
       "<div>\n",
       "<style scoped>\n",
       "    .dataframe tbody tr th:only-of-type {\n",
       "        vertical-align: middle;\n",
       "    }\n",
       "\n",
       "    .dataframe tbody tr th {\n",
       "        vertical-align: top;\n",
       "    }\n",
       "\n",
       "    .dataframe thead th {\n",
       "        text-align: right;\n",
       "    }\n",
       "</style>\n",
       "<table border=\"1\" class=\"dataframe\">\n",
       "  <thead>\n",
       "    <tr style=\"text-align: right;\">\n",
       "      <th></th>\n",
       "      <th>A</th>\n",
       "      <th>B</th>\n",
       "      <th>C</th>\n",
       "      <th>D</th>\n",
       "    </tr>\n",
       "  </thead>\n",
       "  <tbody>\n",
       "    <tr>\n",
       "      <th>a</th>\n",
       "      <td>0.107626</td>\n",
       "      <td>-0.474740</td>\n",
       "      <td>0.464111</td>\n",
       "      <td>-2.031390</td>\n",
       "    </tr>\n",
       "    <tr>\n",
       "      <th>c</th>\n",
       "      <td>0.103145</td>\n",
       "      <td>0.902855</td>\n",
       "      <td>-0.527006</td>\n",
       "      <td>0.745967</td>\n",
       "    </tr>\n",
       "  </tbody>\n",
       "</table>\n",
       "</div>"
      ],
      "text/plain": [
       "          A         B         C         D\n",
       "a  0.107626 -0.474740  0.464111 -2.031390\n",
       "c  0.103145  0.902855 -0.527006  0.745967"
      ]
     },
     "execution_count": 22,
     "metadata": {},
     "output_type": "execute_result"
    }
   ],
   "source": [
    "df1[mask]"
   ]
  },
  {
   "cell_type": "code",
   "execution_count": 23,
   "id": "4f1b5f67-5c56-4e47-8953-4d6383f283e1",
   "metadata": {
    "tags": [
     "hide-cell"
    ]
   },
   "outputs": [
    {
     "data": {
      "text/html": [
       "\n",
       "\n",
       "\n",
       "\n",
       "<div class='full-width docutils' >\n",
       "  <div class=\"admonition note pandastutor\" name=\"html-admonition\" style=\"margin-right:20%\">\n",
       "    <p class=\"admonition-title pandastutor\">Let's visualize it! 🎥</p>\n",
       "    <div class=\"pandastutor inner\" style=\"height:680px;\">\n",
       "      <iframe frameborder=\"0\" scrolling=\"no\" src=\"https://pandastutor.com/vis.html#code=import%20pandas%20as%20pd%0Aimport%20io%0Aimport%20numpy%20as%20np%0Aimport%20random%0Anp.random.seed%2810%29%0Adf1%20%3D%20pd.DataFrame%28np.random.randn%286,%204%29,%0A%20%20%20%20%20%20%20%20%20%20%20%20%20%20%20%20%20%20%20index%3Dlist%28'abcdef'%29,%0A%20%20%20%20%20%20%20%20%20%20%20%20%20%20%20%20%20%20%20columns%3Dlist%28'ABCD'%29%29%0Amask%20%3D%20pd.array%28%5BTrue,%20False,%20True,%20False,%20pd.NA,%20False%5D,%20dtype%3D%22boolean%22%29%0Adf1%5Bmask%5D&d=2023-07-14&lang=py&v=v1\"> </iframe>\n",
       "    </div>\n",
       "  </div>\n",
       "</div>\n",
       "\n",
       "\n"
      ],
      "text/plain": [
       "<IPython.core.display.HTML object>"
      ]
     },
     "metadata": {},
     "output_type": "display_data"
    }
   ],
   "source": [
    "from IPython.display import HTML\n",
    "\n",
    "display(\n",
    "    HTML(\n",
    "        \"\"\"\n",
    "\n",
    "\n",
    "\n",
    "<div class='full-width docutils' >\n",
    "  <div class=\"admonition note pandastutor\" name=\"html-admonition\" style=\"margin-right:20%\">\n",
    "    <p class=\"admonition-title pandastutor\">Let's visualize it! 🎥</p>\n",
    "    <div class=\"pandastutor inner\" style=\"height:680px;\">\n",
    "      <iframe frameborder=\"0\" scrolling=\"no\" src=\"https://pandastutor.com/vis.html#code=import%20pandas%20as%20pd%0Aimport%20io%0Aimport%20numpy%20as%20np%0Aimport%20random%0Anp.random.seed%2810%29%0Adf1%20%3D%20pd.DataFrame%28np.random.randn%286,%204%29,%0A%20%20%20%20%20%20%20%20%20%20%20%20%20%20%20%20%20%20%20index%3Dlist%28'abcdef'%29,%0A%20%20%20%20%20%20%20%20%20%20%20%20%20%20%20%20%20%20%20columns%3Dlist%28'ABCD'%29%29%0Amask%20%3D%20pd.array%28%5BTrue,%20False,%20True,%20False,%20pd.NA,%20False%5D,%20dtype%3D%22boolean%22%29%0Adf1%5Bmask%5D&d=2023-07-14&lang=py&v=v1\"> </iframe>\n",
    "    </div>\n",
    "  </div>\n",
    "</div>\n",
    "\n",
    "\n",
    "\"\"\"\n",
    "    )\n",
    ")\n"
   ]
  },
  {
   "cell_type": "markdown",
   "id": "2ff30b9c",
   "metadata": {},
   "source": [
    "For getting a value explicitly:"
   ]
  },
  {
   "cell_type": "code",
   "execution_count": 24,
   "id": "7e425a66",
   "metadata": {},
   "outputs": [
    {
     "data": {
      "text/plain": [
       "0.10762593297150587"
      ]
     },
     "execution_count": 24,
     "metadata": {},
     "output_type": "execute_result"
    }
   ],
   "source": [
    "df1.loc['a', 'A'] # this is also equivalent to ``df1.at['a','A']``"
   ]
  },
  {
   "cell_type": "code",
   "execution_count": 25,
   "id": "50e88f3d-07f0-443d-994c-d7fb36c4dc7a",
   "metadata": {
    "tags": [
     "hide-cell"
    ]
   },
   "outputs": [
    {
     "data": {
      "text/html": [
       "\n",
       "\n",
       "\n",
       "\n",
       "<div class='full-width docutils' >\n",
       "  <div class=\"admonition note pandastutor\" name=\"html-admonition\" style=\"margin-right:20%\">\n",
       "    <p class=\"admonition-title pandastutor\">Let's visualize it! 🎥</p>\n",
       "    <div class=\"pandastutor inner\" style=\"height:680px;\">\n",
       "      <iframe frameborder=\"0\" scrolling=\"no\" src=\"https://pandastutor.com/vis.html#code=import%20pandas%20as%20pd%0Aimport%20io%0Aimport%20numpy%20as%20np%0Aimport%20random%0Anp.random.seed%2810%29%0Adf1%20%3D%20pd.DataFrame%28np.random.randn%286,%204%29,%0A%20%20%20%20%20%20%20%20%20%20%20%20%20%20%20%20%20%20%20index%3Dlist%28'abcdef'%29,%0A%20%20%20%20%20%20%20%20%20%20%20%20%20%20%20%20%20%20%20columns%3Dlist%28'ABCD'%29%29%0Adf1%0Adf1.loc%5B'a',%20'A'%5D%20&d=2023-07-14&lang=py&v=v1\"> </iframe>\n",
       "    </div>\n",
       "  </div>\n",
       "</div>\n",
       "\n",
       "\n",
       "\n"
      ],
      "text/plain": [
       "<IPython.core.display.HTML object>"
      ]
     },
     "metadata": {},
     "output_type": "display_data"
    }
   ],
   "source": [
    "from IPython.display import HTML\n",
    "\n",
    "display(\n",
    "    HTML(\n",
    "        \"\"\"\n",
    "\n",
    "\n",
    "\n",
    "<div class='full-width docutils' >\n",
    "  <div class=\"admonition note pandastutor\" name=\"html-admonition\" style=\"margin-right:20%\">\n",
    "    <p class=\"admonition-title pandastutor\">Let's visualize it! 🎥</p>\n",
    "    <div class=\"pandastutor inner\" style=\"height:680px;\">\n",
    "      <iframe frameborder=\"0\" scrolling=\"no\" src=\"https://pandastutor.com/vis.html#code=import%20pandas%20as%20pd%0Aimport%20io%0Aimport%20numpy%20as%20np%0Aimport%20random%0Anp.random.seed%2810%29%0Adf1%20%3D%20pd.DataFrame%28np.random.randn%286,%204%29,%0A%20%20%20%20%20%20%20%20%20%20%20%20%20%20%20%20%20%20%20index%3Dlist%28'abcdef'%29,%0A%20%20%20%20%20%20%20%20%20%20%20%20%20%20%20%20%20%20%20columns%3Dlist%28'ABCD'%29%29%0Adf1%0Adf1.loc%5B'a',%20'A'%5D%20&d=2023-07-14&lang=py&v=v1\"> </iframe>\n",
    "    </div>\n",
    "  </div>\n",
    "</div>\n",
    "\n",
    "\n",
    "\n",
    "\"\"\"\n",
    "    )\n",
    ")\n"
   ]
  },
  {
   "cell_type": "markdown",
   "id": "b29c0cd3",
   "metadata": {},
   "source": [
    "## Slicing with labels\n",
    "\n",
    "When using `.loc` with slices, if both the start and the stop labels are present in the index, then elements located between the two (including them) are returned:"
   ]
  },
  {
   "cell_type": "code",
   "execution_count": 26,
   "id": "2bd13eab",
   "metadata": {},
   "outputs": [
    {
     "data": {
      "text/plain": [
       "3    b\n",
       "2    c\n",
       "5    d\n",
       "dtype: object"
      ]
     },
     "execution_count": 26,
     "metadata": {},
     "output_type": "execute_result"
    }
   ],
   "source": [
    "s = pd.Series(list('abcde'), index=[0, 3, 2, 5, 4])\n",
    "s.loc[3:5]"
   ]
  },
  {
   "cell_type": "code",
   "execution_count": 27,
   "id": "63081450-8216-403c-8b53-04b2cc18e442",
   "metadata": {
    "tags": [
     "hide-cell"
    ]
   },
   "outputs": [
    {
     "data": {
      "text/html": [
       "\n",
       "\n",
       "\n",
       "\n",
       "<div class='full-width docutils' >\n",
       "  <div class=\"admonition note pandastutor\" name=\"html-admonition\" style=\"margin-right:20%\">\n",
       "    <p class=\"admonition-title pandastutor\">Let's visualize it! 🎥</p>\n",
       "    <div class=\"pandastutor inner\" style=\"height:580px;\">\n",
       "      <iframe frameborder=\"0\" scrolling=\"no\" src=\"https://pandastutor.com/vis.html#code=import%20pandas%20as%20pd%0Aimport%20io%0As%20%3D%20pd.Series%28list%28'abcde'%29,%20index%3D%5B0,%203,%202,%205,%204%5D%29%0As.loc%5B3%3A5%5D&d=2023-07-14&lang=py&v=v1\"> </iframe>\n",
       "    </div>\n",
       "  </div>\n",
       "</div>\n",
       "\n",
       "\n",
       "\n",
       "\n"
      ],
      "text/plain": [
       "<IPython.core.display.HTML object>"
      ]
     },
     "metadata": {},
     "output_type": "display_data"
    }
   ],
   "source": [
    "from IPython.display import HTML\n",
    "\n",
    "display(\n",
    "    HTML(\n",
    "        \"\"\"\n",
    "\n",
    "\n",
    "\n",
    "<div class='full-width docutils' >\n",
    "  <div class=\"admonition note pandastutor\" name=\"html-admonition\" style=\"margin-right:20%\">\n",
    "    <p class=\"admonition-title pandastutor\">Let's visualize it! 🎥</p>\n",
    "    <div class=\"pandastutor inner\" style=\"height:580px;\">\n",
    "      <iframe frameborder=\"0\" scrolling=\"no\" src=\"https://pandastutor.com/vis.html#code=import%20pandas%20as%20pd%0Aimport%20io%0As%20%3D%20pd.Series%28list%28'abcde'%29,%20index%3D%5B0,%203,%202,%205,%204%5D%29%0As.loc%5B3%3A5%5D&d=2023-07-14&lang=py&v=v1\"> </iframe>\n",
    "    </div>\n",
    "  </div>\n",
    "</div>\n",
    "\n",
    "\n",
    "\n",
    "\n",
    "\"\"\"\n",
    "    )\n",
    ")\n"
   ]
  },
  {
   "cell_type": "markdown",
   "id": "0a1f8d46",
   "metadata": {},
   "source": [
    "If at least one of the two is absent, but the index is sorted, and can be compared against start and stop labels, then slicing will still work as expected, by selecting labels which rank between the two:"
   ]
  },
  {
   "cell_type": "code",
   "execution_count": 28,
   "id": "a08caf62",
   "metadata": {},
   "outputs": [
    {
     "data": {
      "text/plain": [
       "0    a\n",
       "2    c\n",
       "3    b\n",
       "4    e\n",
       "5    d\n",
       "dtype: object"
      ]
     },
     "execution_count": 28,
     "metadata": {},
     "output_type": "execute_result"
    }
   ],
   "source": [
    "s.sort_index()"
   ]
  },
  {
   "cell_type": "code",
   "execution_count": 29,
   "id": "7d665bb1-9bd1-4826-9a0f-f13496d64549",
   "metadata": {
    "tags": [
     "hide-cell"
    ]
   },
   "outputs": [
    {
     "data": {
      "text/html": [
       "\n",
       "\n",
       "\n",
       "\n",
       "<div class='full-width docutils' >\n",
       "  <div class=\"admonition note pandastutor\" name=\"html-admonition\" style=\"margin-right:20%\">\n",
       "    <p class=\"admonition-title pandastutor\">Let's visualize it! 🎥</p>\n",
       "    <div class=\"pandastutor inner\" style=\"height:600px;\">\n",
       "      <iframe frameborder=\"0\" scrolling=\"no\" src=\"https://pandastutor.com/vis.html#code=import%20pandas%20as%20pd%0Aimport%20io%0As%20%3D%20pd.Series%28list%28'abcde'%29,%20index%3D%5B0,%203,%202,%205,%204%5D%29%0As.sort_index%28%29&d=2023-07-14&lang=py&v=v1\"> </iframe>\n",
       "    </div>\n",
       "  </div>\n",
       "</div>\n",
       "\n",
       "\n",
       "\n"
      ],
      "text/plain": [
       "<IPython.core.display.HTML object>"
      ]
     },
     "metadata": {},
     "output_type": "display_data"
    }
   ],
   "source": [
    "from IPython.display import HTML\n",
    "\n",
    "display(\n",
    "    HTML(\n",
    "        \"\"\"\n",
    "\n",
    "\n",
    "\n",
    "<div class='full-width docutils' >\n",
    "  <div class=\"admonition note pandastutor\" name=\"html-admonition\" style=\"margin-right:20%\">\n",
    "    <p class=\"admonition-title pandastutor\">Let's visualize it! 🎥</p>\n",
    "    <div class=\"pandastutor inner\" style=\"height:600px;\">\n",
    "      <iframe frameborder=\"0\" scrolling=\"no\" src=\"https://pandastutor.com/vis.html#code=import%20pandas%20as%20pd%0Aimport%20io%0As%20%3D%20pd.Series%28list%28'abcde'%29,%20index%3D%5B0,%203,%202,%205,%204%5D%29%0As.sort_index%28%29&d=2023-07-14&lang=py&v=v1\"> </iframe>\n",
    "    </div>\n",
    "  </div>\n",
    "</div>\n",
    "\n",
    "\n",
    "\n",
    "\"\"\"\n",
    "    )\n",
    ")\n"
   ]
  },
  {
   "cell_type": "code",
   "execution_count": 30,
   "id": "a5f5d2ba",
   "metadata": {},
   "outputs": [
    {
     "data": {
      "text/plain": [
       "2    c\n",
       "3    b\n",
       "4    e\n",
       "5    d\n",
       "dtype: object"
      ]
     },
     "execution_count": 30,
     "metadata": {},
     "output_type": "execute_result"
    }
   ],
   "source": [
    "s.sort_index().loc[1:6]"
   ]
  },
  {
   "cell_type": "code",
   "execution_count": 31,
   "id": "81114a6f-4511-4f2e-990b-c7edd5e4cf86",
   "metadata": {
    "tags": [
     "hide-cell"
    ]
   },
   "outputs": [
    {
     "data": {
      "text/html": [
       "\n",
       "\n",
       "\n",
       "\n",
       "<div class='full-width docutils' >\n",
       "  <div class=\"admonition note pandastutor\" name=\"html-admonition\" style=\"margin-right:20%\">\n",
       "    <p class=\"admonition-title pandastutor\">Let's visualize it! 🎥</p>\n",
       "    <div class=\"pandastutor inner\" style=\"height:820px;\">\n",
       "      <iframe frameborder=\"0\" scrolling=\"no\" src=\"https://pandastutor.com/vis.html#code=import%20pandas%20as%20pd%0Aimport%20io%0As%20%3D%20pd.Series%28list%28'abcde'%29,%20index%3D%5B0,%203,%202,%205,%204%5D%29%0As.sort_index%28%29.loc%5B1%3A6%5D&d=2023-07-14&lang=py&v=v1\"> </iframe>\n",
       "    </div>\n",
       "  </div>\n",
       "</div>\n",
       "\n",
       "\n",
       "\n"
      ],
      "text/plain": [
       "<IPython.core.display.HTML object>"
      ]
     },
     "metadata": {},
     "output_type": "display_data"
    }
   ],
   "source": [
    "from IPython.display import HTML\n",
    "\n",
    "display(\n",
    "    HTML(\n",
    "        \"\"\"\n",
    "\n",
    "\n",
    "\n",
    "<div class='full-width docutils' >\n",
    "  <div class=\"admonition note pandastutor\" name=\"html-admonition\" style=\"margin-right:20%\">\n",
    "    <p class=\"admonition-title pandastutor\">Let's visualize it! 🎥</p>\n",
    "    <div class=\"pandastutor inner\" style=\"height:820px;\">\n",
    "      <iframe frameborder=\"0\" scrolling=\"no\" src=\"https://pandastutor.com/vis.html#code=import%20pandas%20as%20pd%0Aimport%20io%0As%20%3D%20pd.Series%28list%28'abcde'%29,%20index%3D%5B0,%203,%202,%205,%204%5D%29%0As.sort_index%28%29.loc%5B1%3A6%5D&d=2023-07-14&lang=py&v=v1\"> </iframe>\n",
    "    </div>\n",
    "  </div>\n",
    "</div>\n",
    "\n",
    "\n",
    "\n",
    "\"\"\"\n",
    "    )\n",
    ")\n"
   ]
  },
  {
   "cell_type": "markdown",
   "id": "5115e1d2",
   "metadata": {},
   "source": [
    "However, if at least one of the two is absent and the index is not sorted, an error will be raised (since doing otherwise would be computationally expensive, as well as potentially ambiguous for mixed-type indexes). For instance, in the above example, `s.loc[1:6]` would raise `KeyError`."
   ]
  },
  {
   "cell_type": "code",
   "execution_count": 32,
   "id": "318b8e37",
   "metadata": {},
   "outputs": [
    {
     "data": {
      "text/plain": [
       "3    b\n",
       "2    c\n",
       "5    d\n",
       "dtype: object"
      ]
     },
     "execution_count": 32,
     "metadata": {},
     "output_type": "execute_result"
    }
   ],
   "source": [
    "s = pd.Series(list('abcdef'), index=[0, 3, 2, 5, 4, 2])\n",
    "s.loc[3:5]"
   ]
  },
  {
   "cell_type": "code",
   "execution_count": 33,
   "id": "537dd0b6-b4fc-468b-88a4-5d828eba5ed8",
   "metadata": {
    "tags": [
     "hide-cell"
    ]
   },
   "outputs": [
    {
     "data": {
      "text/html": [
       "\n",
       "\n",
       "\n",
       "\n",
       "<div class='full-width docutils' >\n",
       "  <div class=\"admonition note pandastutor\" name=\"html-admonition\" style=\"margin-right:20%\">\n",
       "    <p class=\"admonition-title pandastutor\">Let's visualize it! 🎥</p>\n",
       "    <div class=\"pandastutor inner\" style=\"height:650px;\">\n",
       "      <iframe frameborder=\"0\" scrolling=\"no\" src=\"https://pandastutor.com/vis.html#code=import%20pandas%20as%20pd%0Aimport%20io%0As%20%3D%20pd.Series%28list%28'abcdef'%29,%20index%3D%5B0,%203,%202,%205,%204,%202%5D%29%0As.loc%5B3%3A5%5D&d=2023-07-14&lang=py&v=v1\"> </iframe>\n",
       "    </div>\n",
       "  </div>\n",
       "</div>\n",
       "\n",
       "\n"
      ],
      "text/plain": [
       "<IPython.core.display.HTML object>"
      ]
     },
     "metadata": {},
     "output_type": "display_data"
    }
   ],
   "source": [
    "from IPython.display import HTML\n",
    "\n",
    "display(\n",
    "    HTML(\n",
    "        \"\"\"\n",
    "\n",
    "\n",
    "\n",
    "<div class='full-width docutils' >\n",
    "  <div class=\"admonition note pandastutor\" name=\"html-admonition\" style=\"margin-right:20%\">\n",
    "    <p class=\"admonition-title pandastutor\">Let's visualize it! 🎥</p>\n",
    "    <div class=\"pandastutor inner\" style=\"height:650px;\">\n",
    "      <iframe frameborder=\"0\" scrolling=\"no\" src=\"https://pandastutor.com/vis.html#code=import%20pandas%20as%20pd%0Aimport%20io%0As%20%3D%20pd.Series%28list%28'abcdef'%29,%20index%3D%5B0,%203,%202,%205,%204,%202%5D%29%0As.loc%5B3%3A5%5D&d=2023-07-14&lang=py&v=v1\"> </iframe>\n",
    "    </div>\n",
    "  </div>\n",
    "</div>\n",
    "\n",
    "\n",
    "\"\"\"\n",
    "    )\n",
    ")\n"
   ]
  },
  {
   "cell_type": "markdown",
   "id": "ce05682d",
   "metadata": {},
   "source": [
    "\n",
    "Also, if the index has duplicate labels and either the start or the stop label is duplicated, an error will be raised. For instance, in the above example, `s.loc[2:5]` would raise a `KeyError`.\n",
    "\n",
    "## Selection by position"
   ]
  },
  {
   "cell_type": "markdown",
   "id": "099c8fa7-d8df-4304-a513-1b142c1021d5",
   "metadata": {
    "attributes": {
     "classes": [
      "warning"
     ],
     "id": ""
    }
   },
   "source": [
    "Whether a copy or a reference is returned for a setting operation, may depend on the context. This is sometimes called `chained assignment` and should be avoided."
   ]
  },
  {
   "cell_type": "markdown",
   "id": "9c2e1dab",
   "metadata": {},
   "source": [
    "Pandas provides a suite of methods in order to get purely integer-based indexing. The semantics follow closely Python and NumPy slicing. These are 0-based indexing. When slicing, the start bound is included, while the upper bound is excluded. Trying to use a non-integer, even a valid label will raise an `IndexError`.\n",
    "\n",
    "The `.iloc` attribute is the primary access method. The following are valid inputs:\n",
    "\n",
    "- An integer e.g. `5`.\n",
    "\n",
    "- A list or array of integers `[4, 3, 0]`.\n",
    "\n",
    "- A slice object with ints `1:7`.\n",
    "\n",
    "- A boolean array.\n",
    "\n",
    "- A `callable`."
   ]
  },
  {
   "cell_type": "code",
   "execution_count": 34,
   "id": "e7b93cb1",
   "metadata": {},
   "outputs": [
    {
     "data": {
      "text/plain": [
       "0    1.201461\n",
       "2   -0.209726\n",
       "4    0.603602\n",
       "dtype: float64"
      ]
     },
     "execution_count": 34,
     "metadata": {},
     "output_type": "execute_result"
    }
   ],
   "source": [
    "s1 = pd.Series(np.random.randn(5), index=list(range(0, 10, 2)))\n",
    "s1\n",
    "s1.iloc[:3]"
   ]
  },
  {
   "cell_type": "code",
   "execution_count": 35,
   "id": "24d4de8c-5c42-484b-89d7-e21ebb0ba7c3",
   "metadata": {
    "tags": [
     "hide-cell"
    ]
   },
   "outputs": [
    {
     "data": {
      "text/html": [
       "\n",
       "\n",
       "\n",
       "<div class='full-width docutils' >\n",
       "  <div class=\"admonition note pandastutor\" name=\"html-admonition\" style=\"margin-right:20%\">\n",
       "    <p class=\"admonition-title pandastutor\">Let's visualize it! 🎥</p>\n",
       "    <div class=\"pandastutor inner\" style=\"height:600px;\">\n",
       "      <iframe frameborder=\"0\" scrolling=\"no\" src=\"https://pandastutor.com/vis.html#code=import%20pandas%20as%20pd%0Aimport%20io%0Aimport%20numpy%20as%20np%0Aimport%20random%0Anp.random.seed%2810%29%0As1%20%3D%20pd.Series%28np.random.randn%285%29,%20index%3Dlist%28range%280,%2010,%202%29%29%29%0As1.iloc%5B%3A3%5D&d=2023-07-14&lang=py&v=v1\"> </iframe>\n",
       "    </div>\n",
       "  </div>\n",
       "</div>\n",
       "\n"
      ],
      "text/plain": [
       "<IPython.core.display.HTML object>"
      ]
     },
     "metadata": {},
     "output_type": "display_data"
    }
   ],
   "source": [
    "from IPython.display import HTML\n",
    "\n",
    "display(\n",
    "    HTML(\n",
    "        \"\"\"\n",
    "\n",
    "\n",
    "<div class='full-width docutils' >\n",
    "  <div class=\"admonition note pandastutor\" name=\"html-admonition\" style=\"margin-right:20%\">\n",
    "    <p class=\"admonition-title pandastutor\">Let's visualize it! 🎥</p>\n",
    "    <div class=\"pandastutor inner\" style=\"height:600px;\">\n",
    "      <iframe frameborder=\"0\" scrolling=\"no\" src=\"https://pandastutor.com/vis.html#code=import%20pandas%20as%20pd%0Aimport%20io%0Aimport%20numpy%20as%20np%0Aimport%20random%0Anp.random.seed%2810%29%0As1%20%3D%20pd.Series%28np.random.randn%285%29,%20index%3Dlist%28range%280,%2010,%202%29%29%29%0As1.iloc%5B%3A3%5D&d=2023-07-14&lang=py&v=v1\"> </iframe>\n",
    "    </div>\n",
    "  </div>\n",
    "</div>\n",
    "\n",
    "\"\"\"\n",
    "    )\n",
    ")\n"
   ]
  },
  {
   "cell_type": "code",
   "execution_count": 36,
   "id": "fe63cdf3",
   "metadata": {},
   "outputs": [
    {
     "data": {
      "text/plain": [
       "-1.6670197584747068"
      ]
     },
     "execution_count": 36,
     "metadata": {},
     "output_type": "execute_result"
    }
   ],
   "source": [
    "s1.iloc[3]"
   ]
  },
  {
   "cell_type": "code",
   "execution_count": 37,
   "id": "ed15834b-fd14-4000-bbdb-0eb86a214984",
   "metadata": {
    "tags": [
     "hide-cell"
    ]
   },
   "outputs": [
    {
     "data": {
      "text/html": [
       "\n",
       "\n",
       "\n",
       "<div class='full-width docutils' >\n",
       "  <div class=\"admonition note pandastutor\" name=\"html-admonition\" style=\"margin-right:20%\">\n",
       "    <p class=\"admonition-title pandastutor\">Let's visualize it! 🎥</p>\n",
       "    <div class=\"pandastutor inner\" style=\"height:600px;\">\n",
       "      <iframe frameborder=\"0\" scrolling=\"no\" src=\"https://pandastutor.com/vis.html#code=import%20pandas%20as%20pd%0Aimport%20io%0Aimport%20numpy%20as%20np%0Aimport%20random%0Anp.random.seed%2810%29%0As1%20%3D%20pd.Series%28np.random.randn%285%29,%20index%3Dlist%28range%280,%2010,%202%29%29%29%0As1.iloc%5B%3A3%5D&d=2023-07-14&lang=py&v=v1\"> </iframe>\n",
       "    </div>\n",
       "  </div>\n",
       "</div>\n",
       "\n"
      ],
      "text/plain": [
       "<IPython.core.display.HTML object>"
      ]
     },
     "metadata": {},
     "output_type": "display_data"
    }
   ],
   "source": [
    "from IPython.display import HTML\n",
    "\n",
    "display(\n",
    "    HTML(\n",
    "        \"\"\"\n",
    "\n",
    "\n",
    "<div class='full-width docutils' >\n",
    "  <div class=\"admonition note pandastutor\" name=\"html-admonition\" style=\"margin-right:20%\">\n",
    "    <p class=\"admonition-title pandastutor\">Let's visualize it! 🎥</p>\n",
    "    <div class=\"pandastutor inner\" style=\"height:600px;\">\n",
    "      <iframe frameborder=\"0\" scrolling=\"no\" src=\"https://pandastutor.com/vis.html#code=import%20pandas%20as%20pd%0Aimport%20io%0Aimport%20numpy%20as%20np%0Aimport%20random%0Anp.random.seed%2810%29%0As1%20%3D%20pd.Series%28np.random.randn%285%29,%20index%3Dlist%28range%280,%2010,%202%29%29%29%0As1.iloc%5B%3A3%5D&d=2023-07-14&lang=py&v=v1\"> </iframe>\n",
    "    </div>\n",
    "  </div>\n",
    "</div>\n",
    "\n",
    "\"\"\"\n",
    "    )\n",
    ")\n"
   ]
  },
  {
   "cell_type": "markdown",
   "id": "4ac478c2",
   "metadata": {},
   "source": [
    "Note that setting works as well:"
   ]
  },
  {
   "cell_type": "code",
   "execution_count": 38,
   "id": "9c4e8129",
   "metadata": {},
   "outputs": [
    {
     "data": {
      "text/plain": [
       "0    0.000000\n",
       "2    0.000000\n",
       "4    0.000000\n",
       "6   -1.667020\n",
       "8    0.092549\n",
       "dtype: float64"
      ]
     },
     "execution_count": 38,
     "metadata": {},
     "output_type": "execute_result"
    }
   ],
   "source": [
    "s1.iloc[:3] = 0\n",
    "s1"
   ]
  },
  {
   "cell_type": "code",
   "execution_count": 39,
   "id": "5b793d9f-5ddb-4121-8218-8a5eda713eab",
   "metadata": {
    "tags": [
     "hide-cell"
    ]
   },
   "outputs": [
    {
     "data": {
      "text/html": [
       "\n",
       "\n",
       "\n",
       "<div class='full-width docutils' >\n",
       "  <div class=\"admonition note pandastutor\" name=\"html-admonition\" style=\"margin-right:20%\">\n",
       "    <p class=\"admonition-title pandastutor\">Let's visualize it! 🎥</p>\n",
       "    <div class=\"pandastutor inner\" style=\"height:620px;\">\n",
       "      <iframe frameborder=\"0\" scrolling=\"no\" src=\"https://pandastutor.com/vis.html#code=import%20pandas%20as%20pd%0Aimport%20io%0Aimport%20numpy%20as%20np%0Aimport%20random%0Anp.random.seed%2810%29%0As1%20%3D%20pd.Series%28np.random.randn%285%29,%20index%3Dlist%28range%280,%2010,%202%29%29%29%0As1.iloc%5B%3A3%5D%20%3D%200%0As1&d=2023-07-14&lang=py&v=v1\"> </iframe>\n",
       "    </div>\n",
       "  </div>\n",
       "</div>\n",
       "\n"
      ],
      "text/plain": [
       "<IPython.core.display.HTML object>"
      ]
     },
     "metadata": {},
     "output_type": "display_data"
    }
   ],
   "source": [
    "from IPython.display import HTML\n",
    "\n",
    "display(\n",
    "    HTML(\n",
    "        \"\"\"\n",
    "\n",
    "\n",
    "<div class='full-width docutils' >\n",
    "  <div class=\"admonition note pandastutor\" name=\"html-admonition\" style=\"margin-right:20%\">\n",
    "    <p class=\"admonition-title pandastutor\">Let's visualize it! 🎥</p>\n",
    "    <div class=\"pandastutor inner\" style=\"height:620px;\">\n",
    "      <iframe frameborder=\"0\" scrolling=\"no\" src=\"https://pandastutor.com/vis.html#code=import%20pandas%20as%20pd%0Aimport%20io%0Aimport%20numpy%20as%20np%0Aimport%20random%0Anp.random.seed%2810%29%0As1%20%3D%20pd.Series%28np.random.randn%285%29,%20index%3Dlist%28range%280,%2010,%202%29%29%29%0As1.iloc%5B%3A3%5D%20%3D%200%0As1&d=2023-07-14&lang=py&v=v1\"> </iframe>\n",
    "    </div>\n",
    "  </div>\n",
    "</div>\n",
    "\n",
    "\"\"\"\n",
    "    )\n",
    ")\n"
   ]
  },
  {
   "cell_type": "markdown",
   "id": "56ced074",
   "metadata": {},
   "source": [
    "With a DataFrame,Select via integer slicing:"
   ]
  },
  {
   "cell_type": "code",
   "execution_count": 40,
   "id": "3d55d682",
   "metadata": {},
   "outputs": [
    {
     "data": {
      "text/html": [
       "<div>\n",
       "<style scoped>\n",
       "    .dataframe tbody tr th:only-of-type {\n",
       "        vertical-align: middle;\n",
       "    }\n",
       "\n",
       "    .dataframe tbody tr th {\n",
       "        vertical-align: top;\n",
       "    }\n",
       "\n",
       "    .dataframe thead th {\n",
       "        text-align: right;\n",
       "    }\n",
       "</style>\n",
       "<table border=\"1\" class=\"dataframe\">\n",
       "  <thead>\n",
       "    <tr style=\"text-align: right;\">\n",
       "      <th></th>\n",
       "      <th>0</th>\n",
       "      <th>2</th>\n",
       "      <th>4</th>\n",
       "      <th>6</th>\n",
       "    </tr>\n",
       "  </thead>\n",
       "  <tbody>\n",
       "    <tr>\n",
       "      <th>0</th>\n",
       "      <td>1.389053</td>\n",
       "      <td>1.375325</td>\n",
       "      <td>0.140536</td>\n",
       "      <td>0.315626</td>\n",
       "    </tr>\n",
       "    <tr>\n",
       "      <th>2</th>\n",
       "      <td>1.083184</td>\n",
       "      <td>0.622431</td>\n",
       "      <td>-1.635515</td>\n",
       "      <td>0.584841</td>\n",
       "    </tr>\n",
       "    <tr>\n",
       "      <th>4</th>\n",
       "      <td>-0.560303</td>\n",
       "      <td>0.239731</td>\n",
       "      <td>-1.372146</td>\n",
       "      <td>0.315151</td>\n",
       "    </tr>\n",
       "  </tbody>\n",
       "</table>\n",
       "</div>"
      ],
      "text/plain": [
       "          0         2         4         6\n",
       "0  1.389053  1.375325  0.140536  0.315626\n",
       "2  1.083184  0.622431 -1.635515  0.584841\n",
       "4 -0.560303  0.239731 -1.372146  0.315151"
      ]
     },
     "execution_count": 40,
     "metadata": {},
     "output_type": "execute_result"
    }
   ],
   "source": [
    "df1 = pd.DataFrame(np.random.randn(6, 4),\n",
    "                   index=list(range(0, 12, 2)),\n",
    "                   columns=list(range(0, 8, 2)))\n",
    "df1\n",
    "df1.iloc[:3]"
   ]
  },
  {
   "cell_type": "code",
   "execution_count": 41,
   "id": "172e44bf-8faf-42a1-b9a7-3adab79b97d1",
   "metadata": {
    "tags": [
     "hide-cell"
    ]
   },
   "outputs": [
    {
     "data": {
      "text/html": [
       "\n",
       "\n",
       "\n",
       "<div class='full-width docutils' >\n",
       "  <div class=\"admonition note pandastutor\" name=\"html-admonition\" style=\"margin-right:20%\">\n",
       "    <p class=\"admonition-title pandastutor\">Let's visualize it! 🎥</p>\n",
       "    <div class=\"pandastutor inner\" style=\"height:680px;\">\n",
       "      <iframe frameborder=\"0\" scrolling=\"no\" src=\"https://pandastutor.com/vis.html#code=import%20pandas%20as%20pd%0Aimport%20io%0Aimport%20numpy%20as%20np%0Aimport%20random%0Anp.random.seed%2810%29%0Adf1%20%3D%20pd.DataFrame%28np.random.randn%286,%204%29,%0A%20%20%20%20%20%20%20%20%20%20%20%20%20%20%20%20%20%20%20index%3Dlist%28range%280,%2012,%202%29%29,%0A%20%20%20%20%20%20%20%20%20%20%20%20%20%20%20%20%20%20%20columns%3Dlist%28range%280,%208,%202%29%29%29%0Adf1%0Adf1.iloc%5B%3A3%5D&d=2023-07-14&lang=py&v=v1\"> </iframe>\n",
       "    </div>\n",
       "  </div>\n",
       "</div>\n"
      ],
      "text/plain": [
       "<IPython.core.display.HTML object>"
      ]
     },
     "metadata": {},
     "output_type": "display_data"
    }
   ],
   "source": [
    "from IPython.display import HTML\n",
    "\n",
    "display(\n",
    "    HTML(\n",
    "        \"\"\"\n",
    "\n",
    "\n",
    "<div class='full-width docutils' >\n",
    "  <div class=\"admonition note pandastutor\" name=\"html-admonition\" style=\"margin-right:20%\">\n",
    "    <p class=\"admonition-title pandastutor\">Let's visualize it! 🎥</p>\n",
    "    <div class=\"pandastutor inner\" style=\"height:680px;\">\n",
    "      <iframe frameborder=\"0\" scrolling=\"no\" src=\"https://pandastutor.com/vis.html#code=import%20pandas%20as%20pd%0Aimport%20io%0Aimport%20numpy%20as%20np%0Aimport%20random%0Anp.random.seed%2810%29%0Adf1%20%3D%20pd.DataFrame%28np.random.randn%286,%204%29,%0A%20%20%20%20%20%20%20%20%20%20%20%20%20%20%20%20%20%20%20index%3Dlist%28range%280,%2012,%202%29%29,%0A%20%20%20%20%20%20%20%20%20%20%20%20%20%20%20%20%20%20%20columns%3Dlist%28range%280,%208,%202%29%29%29%0Adf1%0Adf1.iloc%5B%3A3%5D&d=2023-07-14&lang=py&v=v1\"> </iframe>\n",
    "    </div>\n",
    "  </div>\n",
    "</div>\n",
    "\"\"\"\n",
    "    )\n",
    ")\n"
   ]
  },
  {
   "cell_type": "code",
   "execution_count": 42,
   "id": "b5427ec6",
   "metadata": {},
   "outputs": [
    {
     "data": {
      "text/html": [
       "<div>\n",
       "<style scoped>\n",
       "    .dataframe tbody tr th:only-of-type {\n",
       "        vertical-align: middle;\n",
       "    }\n",
       "\n",
       "    .dataframe tbody tr th {\n",
       "        vertical-align: top;\n",
       "    }\n",
       "\n",
       "    .dataframe thead th {\n",
       "        text-align: right;\n",
       "    }\n",
       "</style>\n",
       "<table border=\"1\" class=\"dataframe\">\n",
       "  <thead>\n",
       "    <tr style=\"text-align: right;\">\n",
       "      <th></th>\n",
       "      <th>4</th>\n",
       "      <th>6</th>\n",
       "    </tr>\n",
       "  </thead>\n",
       "  <tbody>\n",
       "    <tr>\n",
       "      <th>2</th>\n",
       "      <td>-1.635515</td>\n",
       "      <td>0.584841</td>\n",
       "    </tr>\n",
       "    <tr>\n",
       "      <th>4</th>\n",
       "      <td>-1.372146</td>\n",
       "      <td>0.315151</td>\n",
       "    </tr>\n",
       "    <tr>\n",
       "      <th>6</th>\n",
       "      <td>1.606107</td>\n",
       "      <td>0.436991</td>\n",
       "    </tr>\n",
       "    <tr>\n",
       "      <th>8</th>\n",
       "      <td>2.199908</td>\n",
       "      <td>-1.814437</td>\n",
       "    </tr>\n",
       "  </tbody>\n",
       "</table>\n",
       "</div>"
      ],
      "text/plain": [
       "          4         6\n",
       "2 -1.635515  0.584841\n",
       "4 -1.372146  0.315151\n",
       "6  1.606107  0.436991\n",
       "8  2.199908 -1.814437"
      ]
     },
     "execution_count": 42,
     "metadata": {},
     "output_type": "execute_result"
    }
   ],
   "source": [
    "df1.iloc[1:5, 2:4]"
   ]
  },
  {
   "cell_type": "markdown",
   "id": "550715ab",
   "metadata": {},
   "source": [
    "Select via integer list:"
   ]
  },
  {
   "cell_type": "code",
   "execution_count": 43,
   "id": "d86dd6d1",
   "metadata": {},
   "outputs": [
    {
     "data": {
      "text/html": [
       "<div>\n",
       "<style scoped>\n",
       "    .dataframe tbody tr th:only-of-type {\n",
       "        vertical-align: middle;\n",
       "    }\n",
       "\n",
       "    .dataframe tbody tr th {\n",
       "        vertical-align: top;\n",
       "    }\n",
       "\n",
       "    .dataframe thead th {\n",
       "        text-align: right;\n",
       "    }\n",
       "</style>\n",
       "<table border=\"1\" class=\"dataframe\">\n",
       "  <thead>\n",
       "    <tr style=\"text-align: right;\">\n",
       "      <th></th>\n",
       "      <th>2</th>\n",
       "      <th>6</th>\n",
       "    </tr>\n",
       "  </thead>\n",
       "  <tbody>\n",
       "    <tr>\n",
       "      <th>2</th>\n",
       "      <td>0.622431</td>\n",
       "      <td>0.584841</td>\n",
       "    </tr>\n",
       "    <tr>\n",
       "      <th>6</th>\n",
       "      <td>-0.212378</td>\n",
       "      <td>0.436991</td>\n",
       "    </tr>\n",
       "    <tr>\n",
       "      <th>10</th>\n",
       "      <td>-1.562170</td>\n",
       "      <td>0.431481</td>\n",
       "    </tr>\n",
       "  </tbody>\n",
       "</table>\n",
       "</div>"
      ],
      "text/plain": [
       "           2         6\n",
       "2   0.622431  0.584841\n",
       "6  -0.212378  0.436991\n",
       "10 -1.562170  0.431481"
      ]
     },
     "execution_count": 43,
     "metadata": {},
     "output_type": "execute_result"
    }
   ],
   "source": [
    "df1.iloc[[1, 3, 5], [1, 3]]"
   ]
  },
  {
   "cell_type": "code",
   "execution_count": 44,
   "id": "a5e2a6ba-671b-4aab-b63d-5ab4ee92501f",
   "metadata": {
    "tags": [
     "hide-cell"
    ]
   },
   "outputs": [
    {
     "data": {
      "text/html": [
       "\n",
       "\n",
       "\n",
       "<div class='full-width docutils' >\n",
       "  <div class=\"admonition note pandastutor\" name=\"html-admonition\" style=\"margin-right:20%\">\n",
       "    <p class=\"admonition-title pandastutor\">Let's visualize it! 🎥</p>\n",
       "    <div class=\"pandastutor inner\" style=\"height:700px;\">\n",
       "      <iframe frameborder=\"0\" scrolling=\"no\" src=\"https://pandastutor.com/vis.html#code=import%20pandas%20as%20pd%0Aimport%20io%0Aimport%20numpy%20as%20np%0Aimport%20random%0Anp.random.seed%2810%29%0Adf1%20%3D%20pd.DataFrame%28np.random.randn%286,%204%29,%0A%20%20%20%20%20%20%20%20%20%20%20%20%20%20%20%20%20%20%20index%3Dlist%28range%280,%2012,%202%29%29,%0A%20%20%20%20%20%20%20%20%20%20%20%20%20%20%20%20%20%20%20columns%3Dlist%28range%280,%208,%202%29%29%29%0Adf1%0Adf1.iloc%5B1%3A5,%202%3A4%5D&d=2023-07-14&lang=py&v=v1\"> </iframe>\n",
       "    </div>\n",
       "  </div>\n",
       "</div>\n"
      ],
      "text/plain": [
       "<IPython.core.display.HTML object>"
      ]
     },
     "metadata": {},
     "output_type": "display_data"
    }
   ],
   "source": [
    "from IPython.display import HTML\n",
    "\n",
    "display(\n",
    "    HTML(\n",
    "        \"\"\"\n",
    "\n",
    "\n",
    "<div class='full-width docutils' >\n",
    "  <div class=\"admonition note pandastutor\" name=\"html-admonition\" style=\"margin-right:20%\">\n",
    "    <p class=\"admonition-title pandastutor\">Let's visualize it! 🎥</p>\n",
    "    <div class=\"pandastutor inner\" style=\"height:700px;\">\n",
    "      <iframe frameborder=\"0\" scrolling=\"no\" src=\"https://pandastutor.com/vis.html#code=import%20pandas%20as%20pd%0Aimport%20io%0Aimport%20numpy%20as%20np%0Aimport%20random%0Anp.random.seed%2810%29%0Adf1%20%3D%20pd.DataFrame%28np.random.randn%286,%204%29,%0A%20%20%20%20%20%20%20%20%20%20%20%20%20%20%20%20%20%20%20index%3Dlist%28range%280,%2012,%202%29%29,%0A%20%20%20%20%20%20%20%20%20%20%20%20%20%20%20%20%20%20%20columns%3Dlist%28range%280,%208,%202%29%29%29%0Adf1%0Adf1.iloc%5B1%3A5,%202%3A4%5D&d=2023-07-14&lang=py&v=v1\"> </iframe>\n",
    "    </div>\n",
    "  </div>\n",
    "</div>\n",
    "\"\"\"\n",
    "    )\n",
    ")\n"
   ]
  },
  {
   "cell_type": "code",
   "execution_count": 45,
   "id": "8528cc39",
   "metadata": {},
   "outputs": [
    {
     "data": {
      "text/html": [
       "<div>\n",
       "<style scoped>\n",
       "    .dataframe tbody tr th:only-of-type {\n",
       "        vertical-align: middle;\n",
       "    }\n",
       "\n",
       "    .dataframe tbody tr th {\n",
       "        vertical-align: top;\n",
       "    }\n",
       "\n",
       "    .dataframe thead th {\n",
       "        text-align: right;\n",
       "    }\n",
       "</style>\n",
       "<table border=\"1\" class=\"dataframe\">\n",
       "  <thead>\n",
       "    <tr style=\"text-align: right;\">\n",
       "      <th></th>\n",
       "      <th>0</th>\n",
       "      <th>2</th>\n",
       "      <th>4</th>\n",
       "      <th>6</th>\n",
       "    </tr>\n",
       "  </thead>\n",
       "  <tbody>\n",
       "    <tr>\n",
       "      <th>2</th>\n",
       "      <td>1.083184</td>\n",
       "      <td>0.622431</td>\n",
       "      <td>-1.635515</td>\n",
       "      <td>0.584841</td>\n",
       "    </tr>\n",
       "    <tr>\n",
       "      <th>4</th>\n",
       "      <td>-0.560303</td>\n",
       "      <td>0.239731</td>\n",
       "      <td>-1.372146</td>\n",
       "      <td>0.315151</td>\n",
       "    </tr>\n",
       "  </tbody>\n",
       "</table>\n",
       "</div>"
      ],
      "text/plain": [
       "          0         2         4         6\n",
       "2  1.083184  0.622431 -1.635515  0.584841\n",
       "4 -0.560303  0.239731 -1.372146  0.315151"
      ]
     },
     "execution_count": 45,
     "metadata": {},
     "output_type": "execute_result"
    }
   ],
   "source": [
    "df1.iloc[1:3, :]"
   ]
  },
  {
   "cell_type": "code",
   "execution_count": 46,
   "id": "178d6f69-464f-464e-ad45-fac857b9a370",
   "metadata": {
    "tags": [
     "hide-cell"
    ]
   },
   "outputs": [
    {
     "data": {
      "text/html": [
       "\n",
       "\n",
       "\n",
       "<div class='full-width docutils' >\n",
       "  <div class=\"admonition note pandastutor\" name=\"html-admonition\" style=\"margin-right:20%\">\n",
       "    <p class=\"admonition-title pandastutor\">Let's visualize it! 🎥</p>\n",
       "    <div class=\"pandastutor inner\" style=\"height:680px;\">\n",
       "      <iframe frameborder=\"0\" scrolling=\"no\" src=\"https://pandastutor.com/vis.html#code=import%20pandas%20as%20pd%0Aimport%20io%0Aimport%20numpy%20as%20np%0Aimport%20random%0Anp.random.seed%2810%29%0Adf1%20%3D%20pd.DataFrame%28np.random.randn%286,%204%29,%0A%20%20%20%20%20%20%20%20%20%20%20%20%20%20%20%20%20%20%20index%3Dlist%28range%280,%2012,%202%29%29,%0A%20%20%20%20%20%20%20%20%20%20%20%20%20%20%20%20%20%20%20columns%3Dlist%28range%280,%208,%202%29%29%29%0Adf1%0Adf1.iloc%5B1%3A3,%20%3A%5D&d=2023-07-14&lang=py&v=v1\"> </iframe>\n",
       "    </div>\n",
       "  </div>\n",
       "</div>\n",
       "\n",
       "\n",
       "\n"
      ],
      "text/plain": [
       "<IPython.core.display.HTML object>"
      ]
     },
     "metadata": {},
     "output_type": "display_data"
    }
   ],
   "source": [
    "from IPython.display import HTML\n",
    "\n",
    "display(\n",
    "    HTML(\n",
    "        \"\"\"\n",
    "\n",
    "\n",
    "<div class='full-width docutils' >\n",
    "  <div class=\"admonition note pandastutor\" name=\"html-admonition\" style=\"margin-right:20%\">\n",
    "    <p class=\"admonition-title pandastutor\">Let's visualize it! 🎥</p>\n",
    "    <div class=\"pandastutor inner\" style=\"height:680px;\">\n",
    "      <iframe frameborder=\"0\" scrolling=\"no\" src=\"https://pandastutor.com/vis.html#code=import%20pandas%20as%20pd%0Aimport%20io%0Aimport%20numpy%20as%20np%0Aimport%20random%0Anp.random.seed%2810%29%0Adf1%20%3D%20pd.DataFrame%28np.random.randn%286,%204%29,%0A%20%20%20%20%20%20%20%20%20%20%20%20%20%20%20%20%20%20%20index%3Dlist%28range%280,%2012,%202%29%29,%0A%20%20%20%20%20%20%20%20%20%20%20%20%20%20%20%20%20%20%20columns%3Dlist%28range%280,%208,%202%29%29%29%0Adf1%0Adf1.iloc%5B1%3A3,%20%3A%5D&d=2023-07-14&lang=py&v=v1\"> </iframe>\n",
    "    </div>\n",
    "  </div>\n",
    "</div>\n",
    "\n",
    "\n",
    "\n",
    "\"\"\"\n",
    "    )\n",
    ")\n"
   ]
  },
  {
   "cell_type": "code",
   "execution_count": 47,
   "id": "f9288433",
   "metadata": {},
   "outputs": [
    {
     "data": {
      "text/html": [
       "<div>\n",
       "<style scoped>\n",
       "    .dataframe tbody tr th:only-of-type {\n",
       "        vertical-align: middle;\n",
       "    }\n",
       "\n",
       "    .dataframe tbody tr th {\n",
       "        vertical-align: top;\n",
       "    }\n",
       "\n",
       "    .dataframe thead th {\n",
       "        text-align: right;\n",
       "    }\n",
       "</style>\n",
       "<table border=\"1\" class=\"dataframe\">\n",
       "  <thead>\n",
       "    <tr style=\"text-align: right;\">\n",
       "      <th></th>\n",
       "      <th>2</th>\n",
       "      <th>4</th>\n",
       "    </tr>\n",
       "  </thead>\n",
       "  <tbody>\n",
       "    <tr>\n",
       "      <th>0</th>\n",
       "      <td>1.375325</td>\n",
       "      <td>0.140536</td>\n",
       "    </tr>\n",
       "    <tr>\n",
       "      <th>2</th>\n",
       "      <td>0.622431</td>\n",
       "      <td>-1.635515</td>\n",
       "    </tr>\n",
       "    <tr>\n",
       "      <th>4</th>\n",
       "      <td>0.239731</td>\n",
       "      <td>-1.372146</td>\n",
       "    </tr>\n",
       "    <tr>\n",
       "      <th>6</th>\n",
       "      <td>-0.212378</td>\n",
       "      <td>1.606107</td>\n",
       "    </tr>\n",
       "    <tr>\n",
       "      <th>8</th>\n",
       "      <td>0.675962</td>\n",
       "      <td>2.199908</td>\n",
       "    </tr>\n",
       "    <tr>\n",
       "      <th>10</th>\n",
       "      <td>-1.562170</td>\n",
       "      <td>-0.402213</td>\n",
       "    </tr>\n",
       "  </tbody>\n",
       "</table>\n",
       "</div>"
      ],
      "text/plain": [
       "           2         4\n",
       "0   1.375325  0.140536\n",
       "2   0.622431 -1.635515\n",
       "4   0.239731 -1.372146\n",
       "6  -0.212378  1.606107\n",
       "8   0.675962  2.199908\n",
       "10 -1.562170 -0.402213"
      ]
     },
     "execution_count": 47,
     "metadata": {},
     "output_type": "execute_result"
    }
   ],
   "source": [
    "df1.iloc[:, 1:3]"
   ]
  },
  {
   "cell_type": "code",
   "execution_count": 48,
   "id": "71859ce4-7ad5-4bea-9df2-f5929c0c2470",
   "metadata": {
    "tags": [
     "hide-cell"
    ]
   },
   "outputs": [
    {
     "data": {
      "text/html": [
       "\n",
       "\n",
       "\n",
       "<div class='full-width docutils' >\n",
       "  <div class=\"admonition note pandastutor\" name=\"html-admonition\" style=\"margin-right:20%\">\n",
       "    <p class=\"admonition-title pandastutor\">Let's visualize it! 🎥</p>\n",
       "    <div class=\"pandastutor inner\" style=\"height:700px;\">\n",
       "      <iframe frameborder=\"0\" scrolling=\"no\" src=\"https://pandastutor.com/vis.html#code=import%20pandas%20as%20pd%0Aimport%20io%0Aimport%20numpy%20as%20np%0Aimport%20random%0Anp.random.seed%2810%29%0Adf1%20%3D%20pd.DataFrame%28np.random.randn%286,%204%29,%0A%20%20%20%20%20%20%20%20%20%20%20%20%20%20%20%20%20%20%20index%3Dlist%28range%280,%2012,%202%29%29,%0A%20%20%20%20%20%20%20%20%20%20%20%20%20%20%20%20%20%20%20columns%3Dlist%28range%280,%208,%202%29%29%29%0Adf1%0Adf1.iloc%5B%3A,%201%3A3%5D&d=2023-07-14&lang=py&v=v1\"> </iframe>\n",
       "    </div>\n",
       "  </div>\n",
       "</div>\n",
       "\n",
       "\n"
      ],
      "text/plain": [
       "<IPython.core.display.HTML object>"
      ]
     },
     "metadata": {},
     "output_type": "display_data"
    }
   ],
   "source": [
    "from IPython.display import HTML\n",
    "\n",
    "display(\n",
    "    HTML(\n",
    "        \"\"\"\n",
    "\n",
    "\n",
    "<div class='full-width docutils' >\n",
    "  <div class=\"admonition note pandastutor\" name=\"html-admonition\" style=\"margin-right:20%\">\n",
    "    <p class=\"admonition-title pandastutor\">Let's visualize it! 🎥</p>\n",
    "    <div class=\"pandastutor inner\" style=\"height:700px;\">\n",
    "      <iframe frameborder=\"0\" scrolling=\"no\" src=\"https://pandastutor.com/vis.html#code=import%20pandas%20as%20pd%0Aimport%20io%0Aimport%20numpy%20as%20np%0Aimport%20random%0Anp.random.seed%2810%29%0Adf1%20%3D%20pd.DataFrame%28np.random.randn%286,%204%29,%0A%20%20%20%20%20%20%20%20%20%20%20%20%20%20%20%20%20%20%20index%3Dlist%28range%280,%2012,%202%29%29,%0A%20%20%20%20%20%20%20%20%20%20%20%20%20%20%20%20%20%20%20columns%3Dlist%28range%280,%208,%202%29%29%29%0Adf1%0Adf1.iloc%5B%3A,%201%3A3%5D&d=2023-07-14&lang=py&v=v1\"> </iframe>\n",
    "    </div>\n",
    "  </div>\n",
    "</div>\n",
    "\n",
    "\n",
    "\"\"\"\n",
    "    )\n",
    ")\n"
   ]
  },
  {
   "cell_type": "code",
   "execution_count": 49,
   "id": "eb3f25f3",
   "metadata": {},
   "outputs": [
    {
     "data": {
      "text/plain": [
       "0.6224305245842482"
      ]
     },
     "execution_count": 49,
     "metadata": {},
     "output_type": "execute_result"
    }
   ],
   "source": [
    "df1.iloc[1, 1] # this is also equivalent to ``df1.iat[1,1]``"
   ]
  },
  {
   "cell_type": "code",
   "execution_count": 50,
   "id": "5dad7d1a-0bf5-40d8-a4ef-2c3e573ae6fc",
   "metadata": {
    "tags": [
     "hide-cell"
    ]
   },
   "outputs": [
    {
     "data": {
      "text/html": [
       "\n",
       "\n",
       "\n",
       "<div class='full-width docutils' >\n",
       "  <div class=\"admonition note pandastutor\" name=\"html-admonition\" style=\"margin-right:20%\">\n",
       "    <p class=\"admonition-title pandastutor\">Let's visualize it! 🎥</p>\n",
       "    <div class=\"pandastutor inner\" style=\"height:680px;\">\n",
       "      <iframe frameborder=\"0\" scrolling=\"no\" src=\"https://pandastutor.com/vis.html#code=import%20pandas%20as%20pd%0Aimport%20io%0Aimport%20numpy%20as%20np%0Aimport%20random%0Anp.random.seed%2810%29%0Adf1%20%3D%20pd.DataFrame%28np.random.randn%286,%204%29,%0A%20%20%20%20%20%20%20%20%20%20%20%20%20%20%20%20%20%20%20index%3Dlist%28range%280,%2012,%202%29%29,%0A%20%20%20%20%20%20%20%20%20%20%20%20%20%20%20%20%20%20%20columns%3Dlist%28range%280,%208,%202%29%29%29%0Adf1%0Adf1.iloc%5B1,%201%5D&d=2023-07-14&lang=py&v=v1\"> </iframe>\n",
       "    </div>\n",
       "  </div>\n",
       "</div>\n",
       "\n",
       "\n"
      ],
      "text/plain": [
       "<IPython.core.display.HTML object>"
      ]
     },
     "metadata": {},
     "output_type": "display_data"
    }
   ],
   "source": [
    "from IPython.display import HTML\n",
    "\n",
    "display(\n",
    "    HTML(\n",
    "        \"\"\"\n",
    "\n",
    "\n",
    "<div class='full-width docutils' >\n",
    "  <div class=\"admonition note pandastutor\" name=\"html-admonition\" style=\"margin-right:20%\">\n",
    "    <p class=\"admonition-title pandastutor\">Let's visualize it! 🎥</p>\n",
    "    <div class=\"pandastutor inner\" style=\"height:680px;\">\n",
    "      <iframe frameborder=\"0\" scrolling=\"no\" src=\"https://pandastutor.com/vis.html#code=import%20pandas%20as%20pd%0Aimport%20io%0Aimport%20numpy%20as%20np%0Aimport%20random%0Anp.random.seed%2810%29%0Adf1%20%3D%20pd.DataFrame%28np.random.randn%286,%204%29,%0A%20%20%20%20%20%20%20%20%20%20%20%20%20%20%20%20%20%20%20index%3Dlist%28range%280,%2012,%202%29%29,%0A%20%20%20%20%20%20%20%20%20%20%20%20%20%20%20%20%20%20%20columns%3Dlist%28range%280,%208,%202%29%29%29%0Adf1%0Adf1.iloc%5B1,%201%5D&d=2023-07-14&lang=py&v=v1\"> </iframe>\n",
    "    </div>\n",
    "  </div>\n",
    "</div>\n",
    "\n",
    "\n",
    "\"\"\"\n",
    "    )\n",
    ")\n"
   ]
  },
  {
   "cell_type": "markdown",
   "id": "6cb0234e",
   "metadata": {},
   "source": [
    "\n",
    "For getting a cross-section using an integer position (equiv to `df.xs(1)`):"
   ]
  },
  {
   "cell_type": "code",
   "execution_count": 51,
   "id": "cc95030f",
   "metadata": {},
   "outputs": [
    {
     "data": {
      "text/plain": [
       "0    1.083184\n",
       "2    0.622431\n",
       "4   -1.635515\n",
       "6    0.584841\n",
       "Name: 2, dtype: float64"
      ]
     },
     "execution_count": 51,
     "metadata": {},
     "output_type": "execute_result"
    }
   ],
   "source": [
    "df1.iloc[1]"
   ]
  },
  {
   "cell_type": "code",
   "execution_count": 52,
   "id": "bfa6df43-353d-4ba4-94a0-e65c9a659468",
   "metadata": {
    "tags": [
     "hide-cell"
    ]
   },
   "outputs": [
    {
     "data": {
      "text/html": [
       "\n",
       "\n",
       "\n",
       "<div class='full-width docutils' >\n",
       "  <div class=\"admonition note pandastutor\" name=\"html-admonition\" style=\"margin-right:20%\">\n",
       "    <p class=\"admonition-title pandastutor\">Let's visualize it! 🎥</p>\n",
       "    <div class=\"pandastutor inner\" style=\"height:700px;\">\n",
       "      <iframe frameborder=\"0\" scrolling=\"no\" src=\"https://pandastutor.com/vis.html#code=import%20pandas%20as%20pd%0Aimport%20io%0Aimport%20numpy%20as%20np%0Aimport%20random%0Anp.random.seed%2810%29%0Adf1%20%3D%20pd.DataFrame%28np.random.randn%286,%204%29,%0A%20%20%20%20%20%20%20%20%20%20%20%20%20%20%20%20%20%20%20index%3Dlist%28range%280,%2012,%202%29%29,%0A%20%20%20%20%20%20%20%20%20%20%20%20%20%20%20%20%20%20%20columns%3Dlist%28range%280,%208,%202%29%29%29%0Adf1%0Adf1.iloc%5B1%5D&d=2023-07-14&lang=py&v=v1\"> </iframe>\n",
       "    </div>\n",
       "  </div>\n",
       "</div>\n",
       "\n",
       "\n"
      ],
      "text/plain": [
       "<IPython.core.display.HTML object>"
      ]
     },
     "metadata": {},
     "output_type": "display_data"
    }
   ],
   "source": [
    "from IPython.display import HTML\n",
    "\n",
    "display(\n",
    "    HTML(\n",
    "        \"\"\"\n",
    "\n",
    "\n",
    "<div class='full-width docutils' >\n",
    "  <div class=\"admonition note pandastutor\" name=\"html-admonition\" style=\"margin-right:20%\">\n",
    "    <p class=\"admonition-title pandastutor\">Let's visualize it! 🎥</p>\n",
    "    <div class=\"pandastutor inner\" style=\"height:700px;\">\n",
    "      <iframe frameborder=\"0\" scrolling=\"no\" src=\"https://pandastutor.com/vis.html#code=import%20pandas%20as%20pd%0Aimport%20io%0Aimport%20numpy%20as%20np%0Aimport%20random%0Anp.random.seed%2810%29%0Adf1%20%3D%20pd.DataFrame%28np.random.randn%286,%204%29,%0A%20%20%20%20%20%20%20%20%20%20%20%20%20%20%20%20%20%20%20index%3Dlist%28range%280,%2012,%202%29%29,%0A%20%20%20%20%20%20%20%20%20%20%20%20%20%20%20%20%20%20%20columns%3Dlist%28range%280,%208,%202%29%29%29%0Adf1%0Adf1.iloc%5B1%5D&d=2023-07-14&lang=py&v=v1\"> </iframe>\n",
    "    </div>\n",
    "  </div>\n",
    "</div>\n",
    "\n",
    "\n",
    "\"\"\"\n",
    "    )\n",
    ")\n"
   ]
  },
  {
   "cell_type": "markdown",
   "id": "bc5305b8",
   "metadata": {},
   "source": [
    "Out-of-range slice indexes are handled gracefully just as in Python/NumPy."
   ]
  },
  {
   "cell_type": "code",
   "execution_count": 53,
   "id": "0c635e2f",
   "metadata": {
    "attributes": {
     "classes": [
      "code-cell"
     ],
     "id": ""
    }
   },
   "outputs": [
    {
     "data": {
      "text/plain": [
       "['a', 'b', 'c', 'd', 'e', 'f']"
      ]
     },
     "execution_count": 53,
     "metadata": {},
     "output_type": "execute_result"
    }
   ],
   "source": [
    "x = list('abcdef') # these are allowed in Python/NumPy.\n",
    "x"
   ]
  },
  {
   "cell_type": "code",
   "execution_count": 54,
   "id": "bae9b708",
   "metadata": {
    "attributes": {
     "classes": [
      "code-cell"
     ],
     "id": ""
    }
   },
   "outputs": [
    {
     "data": {
      "text/plain": [
       "['e', 'f']"
      ]
     },
     "execution_count": 54,
     "metadata": {},
     "output_type": "execute_result"
    }
   ],
   "source": [
    "x[4:10]"
   ]
  },
  {
   "cell_type": "code",
   "execution_count": 55,
   "id": "ccb95b2c",
   "metadata": {
    "attributes": {
     "classes": [
      "code-cell"
     ],
     "id": ""
    }
   },
   "outputs": [
    {
     "data": {
      "text/plain": [
       "[]"
      ]
     },
     "execution_count": 55,
     "metadata": {},
     "output_type": "execute_result"
    }
   ],
   "source": [
    "x[8:10]"
   ]
  },
  {
   "cell_type": "code",
   "execution_count": 56,
   "id": "fcaaeb73",
   "metadata": {
    "attributes": {
     "classes": [
      "code-cell"
     ],
     "id": ""
    }
   },
   "outputs": [
    {
     "data": {
      "text/plain": [
       "0    a\n",
       "1    b\n",
       "2    c\n",
       "3    d\n",
       "4    e\n",
       "5    f\n",
       "dtype: object"
      ]
     },
     "execution_count": 56,
     "metadata": {},
     "output_type": "execute_result"
    }
   ],
   "source": [
    "s = pd.Series(x)\n",
    "s"
   ]
  },
  {
   "cell_type": "code",
   "execution_count": 57,
   "id": "19e7f165",
   "metadata": {},
   "outputs": [
    {
     "data": {
      "text/plain": [
       "4    e\n",
       "5    f\n",
       "dtype: object"
      ]
     },
     "execution_count": 57,
     "metadata": {},
     "output_type": "execute_result"
    }
   ],
   "source": [
    "s.iloc[4:10]"
   ]
  },
  {
   "cell_type": "code",
   "execution_count": 58,
   "id": "3b612356-7774-472e-849e-0f3dc267b578",
   "metadata": {
    "tags": [
     "hide-cell"
    ]
   },
   "outputs": [
    {
     "data": {
      "text/html": [
       "\n",
       "\n",
       "\n",
       "<div class='full-width docutils' >\n",
       "  <div class=\"admonition note pandastutor\" name=\"html-admonition\" style=\"margin-right:20%\">\n",
       "    <p class=\"admonition-title pandastutor\">Let's visualize it! 🎥</p>\n",
       "    <div class=\"pandastutor inner\" style=\"height:600px;\">\n",
       "      <iframe frameborder=\"0\" scrolling=\"no\" src=\"https://pandastutor.com/vis.html#code=import%20pandas%20as%20pd%0Aimport%20io%0Ax%20%3D%20list%28'abcdef'%29%20%0As%20%3D%20pd.Series%28x%29%0As.iloc%5B4%3A10%5D&d=2023-07-14&lang=py&v=v1\"> </iframe>\n",
       "    </div>\n",
       "  </div>\n",
       "</div>\n",
       "\n"
      ],
      "text/plain": [
       "<IPython.core.display.HTML object>"
      ]
     },
     "metadata": {},
     "output_type": "display_data"
    }
   ],
   "source": [
    "from IPython.display import HTML\n",
    "\n",
    "display(\n",
    "    HTML(\n",
    "        \"\"\"\n",
    "\n",
    "\n",
    "<div class='full-width docutils' >\n",
    "  <div class=\"admonition note pandastutor\" name=\"html-admonition\" style=\"margin-right:20%\">\n",
    "    <p class=\"admonition-title pandastutor\">Let's visualize it! 🎥</p>\n",
    "    <div class=\"pandastutor inner\" style=\"height:600px;\">\n",
    "      <iframe frameborder=\"0\" scrolling=\"no\" src=\"https://pandastutor.com/vis.html#code=import%20pandas%20as%20pd%0Aimport%20io%0Ax%20%3D%20list%28'abcdef'%29%20%0As%20%3D%20pd.Series%28x%29%0As.iloc%5B4%3A10%5D&d=2023-07-14&lang=py&v=v1\"> </iframe>\n",
    "    </div>\n",
    "  </div>\n",
    "</div>\n",
    "\n",
    "\"\"\"\n",
    "    )\n",
    ")\n"
   ]
  },
  {
   "cell_type": "code",
   "execution_count": 59,
   "id": "2a25cc5c",
   "metadata": {
    "attributes": {
     "classes": [
      "code-cell"
     ],
     "id": ""
    }
   },
   "outputs": [
    {
     "data": {
      "text/plain": [
       "Series([], dtype: object)"
      ]
     },
     "execution_count": 59,
     "metadata": {},
     "output_type": "execute_result"
    }
   ],
   "source": [
    "s.iloc[8:10]"
   ]
  },
  {
   "cell_type": "markdown",
   "id": "23aa8371",
   "metadata": {},
   "source": [
    "Note that using slices that go out of bounds can result in an empty axis (e.g. an empty DataFrame being returned)."
   ]
  },
  {
   "cell_type": "code",
   "execution_count": 60,
   "id": "f9024d15",
   "metadata": {
    "attributes": {
     "classes": [
      "code-cell"
     ],
     "id": ""
    },
    "tags": []
   },
   "outputs": [],
   "source": [
    "dfl = pd.DataFrame(np.random.randn(5, 2), columns=list('AB'))"
   ]
  },
  {
   "cell_type": "code",
   "execution_count": 61,
   "id": "5837f585",
   "metadata": {},
   "outputs": [
    {
     "data": {
      "text/html": [
       "<div>\n",
       "<style scoped>\n",
       "    .dataframe tbody tr th:only-of-type {\n",
       "        vertical-align: middle;\n",
       "    }\n",
       "\n",
       "    .dataframe tbody tr th {\n",
       "        vertical-align: top;\n",
       "    }\n",
       "\n",
       "    .dataframe thead th {\n",
       "        text-align: right;\n",
       "    }\n",
       "</style>\n",
       "<table border=\"1\" class=\"dataframe\">\n",
       "  <thead>\n",
       "    <tr style=\"text-align: right;\">\n",
       "      <th></th>\n",
       "    </tr>\n",
       "  </thead>\n",
       "  <tbody>\n",
       "    <tr>\n",
       "      <th>0</th>\n",
       "    </tr>\n",
       "    <tr>\n",
       "      <th>1</th>\n",
       "    </tr>\n",
       "    <tr>\n",
       "      <th>2</th>\n",
       "    </tr>\n",
       "    <tr>\n",
       "      <th>3</th>\n",
       "    </tr>\n",
       "    <tr>\n",
       "      <th>4</th>\n",
       "    </tr>\n",
       "  </tbody>\n",
       "</table>\n",
       "</div>"
      ],
      "text/plain": [
       "Empty DataFrame\n",
       "Columns: []\n",
       "Index: [0, 1, 2, 3, 4]"
      ]
     },
     "execution_count": 61,
     "metadata": {},
     "output_type": "execute_result"
    }
   ],
   "source": [
    "dfl.iloc[:, 2:3]"
   ]
  },
  {
   "cell_type": "code",
   "execution_count": 62,
   "id": "4b81ac82-5d47-4410-90b9-040f0dac662b",
   "metadata": {
    "tags": [
     "hide-cell"
    ]
   },
   "outputs": [
    {
     "data": {
      "text/html": [
       "\n",
       "\n",
       "\n",
       "<div class='full-width docutils' >\n",
       "  <div class=\"admonition note pandastutor\" name=\"html-admonition\" style=\"margin-right:20%\">\n",
       "    <p class=\"admonition-title pandastutor\">Let's visualize it! 🎥</p>\n",
       "    <div class=\"pandastutor inner\" style=\"height:630px;\">\n",
       "      <iframe frameborder=\"0\" scrolling=\"no\" src=\"https://pandastutor.com/vis.html#code=import%20pandas%20as%20pd%0Aimport%20io%0Aimport%20numpy%20as%20np%0Aimport%20random%20%0Anp.random.seed%2810%29%0Adfl%20%3D%20pd.DataFrame%28np.random.randn%285,%202%29,%20columns%3Dlist%28'AB'%29%29%0Adfl%0Adfl.iloc%5B%3A,%202%3A3%5D&d=2023-07-14&lang=py&v=v1\"> </iframe>\n",
       "    </div>\n",
       "  </div>\n",
       "</div>\n"
      ],
      "text/plain": [
       "<IPython.core.display.HTML object>"
      ]
     },
     "metadata": {},
     "output_type": "display_data"
    }
   ],
   "source": [
    "from IPython.display import HTML\n",
    "\n",
    "display(\n",
    "    HTML(\n",
    "        \"\"\"\n",
    "\n",
    "\n",
    "<div class='full-width docutils' >\n",
    "  <div class=\"admonition note pandastutor\" name=\"html-admonition\" style=\"margin-right:20%\">\n",
    "    <p class=\"admonition-title pandastutor\">Let's visualize it! 🎥</p>\n",
    "    <div class=\"pandastutor inner\" style=\"height:630px;\">\n",
    "      <iframe frameborder=\"0\" scrolling=\"no\" src=\"https://pandastutor.com/vis.html#code=import%20pandas%20as%20pd%0Aimport%20io%0Aimport%20numpy%20as%20np%0Aimport%20random%20%0Anp.random.seed%2810%29%0Adfl%20%3D%20pd.DataFrame%28np.random.randn%285,%202%29,%20columns%3Dlist%28'AB'%29%29%0Adfl%0Adfl.iloc%5B%3A,%202%3A3%5D&d=2023-07-14&lang=py&v=v1\"> </iframe>\n",
    "    </div>\n",
    "  </div>\n",
    "</div>\n",
    "\"\"\"\n",
    "    )\n",
    ")\n"
   ]
  },
  {
   "cell_type": "code",
   "execution_count": 63,
   "id": "d0e19553",
   "metadata": {},
   "outputs": [
    {
     "data": {
      "text/html": [
       "<div>\n",
       "<style scoped>\n",
       "    .dataframe tbody tr th:only-of-type {\n",
       "        vertical-align: middle;\n",
       "    }\n",
       "\n",
       "    .dataframe tbody tr th {\n",
       "        vertical-align: top;\n",
       "    }\n",
       "\n",
       "    .dataframe thead th {\n",
       "        text-align: right;\n",
       "    }\n",
       "</style>\n",
       "<table border=\"1\" class=\"dataframe\">\n",
       "  <thead>\n",
       "    <tr style=\"text-align: right;\">\n",
       "      <th></th>\n",
       "      <th>B</th>\n",
       "    </tr>\n",
       "  </thead>\n",
       "  <tbody>\n",
       "    <tr>\n",
       "      <th>0</th>\n",
       "      <td>-1.929432</td>\n",
       "    </tr>\n",
       "    <tr>\n",
       "      <th>1</th>\n",
       "      <td>-0.433821</td>\n",
       "    </tr>\n",
       "    <tr>\n",
       "      <th>2</th>\n",
       "      <td>0.402224</td>\n",
       "    </tr>\n",
       "    <tr>\n",
       "      <th>3</th>\n",
       "      <td>0.240110</td>\n",
       "    </tr>\n",
       "    <tr>\n",
       "      <th>4</th>\n",
       "      <td>-0.660129</td>\n",
       "    </tr>\n",
       "  </tbody>\n",
       "</table>\n",
       "</div>"
      ],
      "text/plain": [
       "          B\n",
       "0 -1.929432\n",
       "1 -0.433821\n",
       "2  0.402224\n",
       "3  0.240110\n",
       "4 -0.660129"
      ]
     },
     "execution_count": 63,
     "metadata": {},
     "output_type": "execute_result"
    }
   ],
   "source": [
    "dfl.iloc[:, 1:3]"
   ]
  },
  {
   "cell_type": "code",
   "execution_count": 64,
   "id": "39dab713-a3f6-4189-bad9-cba564f56951",
   "metadata": {
    "tags": [
     "hide-cell"
    ]
   },
   "outputs": [
    {
     "data": {
      "text/html": [
       "\n",
       "\n",
       "\n",
       "<div class='full-width docutils' >\n",
       "  <div class=\"admonition note pandastutor\" name=\"html-admonition\" style=\"margin-right:20%\">\n",
       "    <p class=\"admonition-title pandastutor\">Let's visualize it! 🎥</p>\n",
       "    <div class=\"pandastutor inner\" style=\"height:630px;\">\n",
       "      <iframe frameborder=\"0\" scrolling=\"no\" src=\"https://pandastutor.com/vis.html#code=import%20pandas%20as%20pd%0Aimport%20io%0Aimport%20numpy%20as%20np%0Aimport%20random%20%0Anp.random.seed%2810%29%0Adfl%20%3D%20pd.DataFrame%28np.random.randn%285,%202%29,%20columns%3Dlist%28'AB'%29%29%0Adfl.iloc%5B%3A,%201%3A3%5D&d=2023-07-14&lang=py&v=v1\"> </iframe>\n",
       "    </div>\n",
       "  </div>\n",
       "</div>\n",
       "\n"
      ],
      "text/plain": [
       "<IPython.core.display.HTML object>"
      ]
     },
     "metadata": {},
     "output_type": "display_data"
    }
   ],
   "source": [
    "from IPython.display import HTML\n",
    "\n",
    "display(\n",
    "    HTML(\n",
    "        \"\"\"\n",
    "\n",
    "\n",
    "<div class='full-width docutils' >\n",
    "  <div class=\"admonition note pandastutor\" name=\"html-admonition\" style=\"margin-right:20%\">\n",
    "    <p class=\"admonition-title pandastutor\">Let's visualize it! 🎥</p>\n",
    "    <div class=\"pandastutor inner\" style=\"height:630px;\">\n",
    "      <iframe frameborder=\"0\" scrolling=\"no\" src=\"https://pandastutor.com/vis.html#code=import%20pandas%20as%20pd%0Aimport%20io%0Aimport%20numpy%20as%20np%0Aimport%20random%20%0Anp.random.seed%2810%29%0Adfl%20%3D%20pd.DataFrame%28np.random.randn%285,%202%29,%20columns%3Dlist%28'AB'%29%29%0Adfl.iloc%5B%3A,%201%3A3%5D&d=2023-07-14&lang=py&v=v1\"> </iframe>\n",
    "    </div>\n",
    "  </div>\n",
    "</div>\n",
    "\n",
    "\"\"\"\n",
    "    )\n",
    ")\n"
   ]
  },
  {
   "cell_type": "code",
   "execution_count": 65,
   "id": "f91ab868",
   "metadata": {},
   "outputs": [
    {
     "data": {
      "text/html": [
       "<div>\n",
       "<style scoped>\n",
       "    .dataframe tbody tr th:only-of-type {\n",
       "        vertical-align: middle;\n",
       "    }\n",
       "\n",
       "    .dataframe tbody tr th {\n",
       "        vertical-align: top;\n",
       "    }\n",
       "\n",
       "    .dataframe thead th {\n",
       "        text-align: right;\n",
       "    }\n",
       "</style>\n",
       "<table border=\"1\" class=\"dataframe\">\n",
       "  <thead>\n",
       "    <tr style=\"text-align: right;\">\n",
       "      <th></th>\n",
       "      <th>A</th>\n",
       "      <th>B</th>\n",
       "    </tr>\n",
       "  </thead>\n",
       "  <tbody>\n",
       "    <tr>\n",
       "      <th>4</th>\n",
       "      <td>-0.253006</td>\n",
       "      <td>-0.660129</td>\n",
       "    </tr>\n",
       "  </tbody>\n",
       "</table>\n",
       "</div>"
      ],
      "text/plain": [
       "          A         B\n",
       "4 -0.253006 -0.660129"
      ]
     },
     "execution_count": 65,
     "metadata": {},
     "output_type": "execute_result"
    }
   ],
   "source": [
    "dfl.iloc[4:6]"
   ]
  },
  {
   "cell_type": "code",
   "execution_count": 66,
   "id": "220aa5af-5003-45e9-87cf-c4f5d0ac6d93",
   "metadata": {
    "tags": [
     "hide-cell"
    ]
   },
   "outputs": [
    {
     "data": {
      "text/html": [
       "\n",
       "\n",
       "\n",
       "<div class='full-width docutils' >\n",
       "  <div class=\"admonition note pandastutor\" name=\"html-admonition\" style=\"margin-right:20%\">\n",
       "    <p class=\"admonition-title pandastutor\">Let's visualize it! 🎥</p>\n",
       "    <div class=\"pandastutor inner\" style=\"height:600px;\">\n",
       "      <iframe frameborder=\"0\" scrolling=\"no\" src=\"https://pandastutor.com/vis.html#code=import%20pandas%20as%20pd%0Aimport%20io%0Aimport%20numpy%20as%20np%0Aimport%20random%20%0Anp.random.seed%2810%29%0Adfl%20%3D%20pd.DataFrame%28np.random.randn%285,%202%29,%20columns%3Dlist%28'AB'%29%29%0Adfl.iloc%5B4%3A6%5D&d=2023-07-14&lang=py&v=v1\"> </iframe>\n",
       "    </div>\n",
       "  </div>\n",
       "</div>\n",
       "\n"
      ],
      "text/plain": [
       "<IPython.core.display.HTML object>"
      ]
     },
     "metadata": {},
     "output_type": "display_data"
    }
   ],
   "source": [
    "from IPython.display import HTML\n",
    "\n",
    "display(\n",
    "    HTML(\n",
    "        \"\"\"\n",
    "\n",
    "\n",
    "<div class='full-width docutils' >\n",
    "  <div class=\"admonition note pandastutor\" name=\"html-admonition\" style=\"margin-right:20%\">\n",
    "    <p class=\"admonition-title pandastutor\">Let's visualize it! 🎥</p>\n",
    "    <div class=\"pandastutor inner\" style=\"height:600px;\">\n",
    "      <iframe frameborder=\"0\" scrolling=\"no\" src=\"https://pandastutor.com/vis.html#code=import%20pandas%20as%20pd%0Aimport%20io%0Aimport%20numpy%20as%20np%0Aimport%20random%20%0Anp.random.seed%2810%29%0Adfl%20%3D%20pd.DataFrame%28np.random.randn%285,%202%29,%20columns%3Dlist%28'AB'%29%29%0Adfl.iloc%5B4%3A6%5D&d=2023-07-14&lang=py&v=v1\"> </iframe>\n",
    "    </div>\n",
    "  </div>\n",
    "</div>\n",
    "\n",
    "\"\"\"\n",
    "    )\n",
    ")\n"
   ]
  },
  {
   "cell_type": "markdown",
   "id": "59c65e15",
   "metadata": {},
   "source": [
    "\n",
    "A single indexer that is out of bounds will raise an `IndexError`. A list of indexers where any element is out of bounds will raise an `IndexError`."
   ]
  },
  {
   "cell_type": "code",
   "execution_count": 67,
   "id": "f3496be2",
   "metadata": {
    "attributes": {
     "classes": [
      "code-cell"
     ],
     "id": ""
    },
    "tags": []
   },
   "outputs": [],
   "source": [
    "# Remove # and run to see the IndexError\n",
    "\n",
    "# fl.iloc[[4, 5, 6]]"
   ]
  },
  {
   "cell_type": "code",
   "execution_count": 68,
   "id": "7b081f89",
   "metadata": {
    "attributes": {
     "classes": [
      "code-cell"
     ],
     "id": ""
    },
    "tags": []
   },
   "outputs": [],
   "source": [
    "# Remove # and run to see the IndexError\n",
    "\n",
    "# dfl.iloc[:, 4]"
   ]
  },
  {
   "cell_type": "markdown",
   "id": "b3fe22e7",
   "metadata": {},
   "source": [
    "## Selection by callable\n",
    "\n",
    "`.loc`, `.iloc`, and also `[]` indexing can accept a `callable` as indexer. The `callable` must be a function with one argument (the calling Series or DataFrame) that returns valid output for indexing."
   ]
  },
  {
   "cell_type": "code",
   "execution_count": 69,
   "id": "72420538",
   "metadata": {},
   "outputs": [
    {
     "data": {
      "text/html": [
       "<div>\n",
       "<style scoped>\n",
       "    .dataframe tbody tr th:only-of-type {\n",
       "        vertical-align: middle;\n",
       "    }\n",
       "\n",
       "    .dataframe tbody tr th {\n",
       "        vertical-align: top;\n",
       "    }\n",
       "\n",
       "    .dataframe thead th {\n",
       "        text-align: right;\n",
       "    }\n",
       "</style>\n",
       "<table border=\"1\" class=\"dataframe\">\n",
       "  <thead>\n",
       "    <tr style=\"text-align: right;\">\n",
       "      <th></th>\n",
       "      <th>A</th>\n",
       "      <th>B</th>\n",
       "      <th>C</th>\n",
       "      <th>D</th>\n",
       "    </tr>\n",
       "  </thead>\n",
       "  <tbody>\n",
       "    <tr>\n",
       "      <th>d</th>\n",
       "      <td>1.101638</td>\n",
       "      <td>-0.245478</td>\n",
       "      <td>-0.761173</td>\n",
       "      <td>-1.998807</td>\n",
       "    </tr>\n",
       "    <tr>\n",
       "      <th>f</th>\n",
       "      <td>0.623980</td>\n",
       "      <td>0.421762</td>\n",
       "      <td>0.053489</td>\n",
       "      <td>-0.269926</td>\n",
       "    </tr>\n",
       "  </tbody>\n",
       "</table>\n",
       "</div>"
      ],
      "text/plain": [
       "          A         B         C         D\n",
       "d  1.101638 -0.245478 -0.761173 -1.998807\n",
       "f  0.623980  0.421762  0.053489 -0.269926"
      ]
     },
     "execution_count": 69,
     "metadata": {},
     "output_type": "execute_result"
    }
   ],
   "source": [
    "df1 = pd.DataFrame(np.random.randn(6, 4),\n",
    "                   index=list('abcdef'),\n",
    "                   columns=list('ABCD'))\n",
    "df1\n",
    "df1.loc[lambda df: df['A'] > 0, :]"
   ]
  },
  {
   "cell_type": "code",
   "execution_count": 70,
   "id": "7206088f-3aa5-4392-9982-cadec553e616",
   "metadata": {
    "tags": [
     "hide-cell"
    ]
   },
   "outputs": [
    {
     "data": {
      "text/html": [
       "\n",
       "\n",
       "\n",
       "<div class='full-width docutils' >\n",
       "  <div class=\"admonition note pandastutor\" name=\"html-admonition\" style=\"margin-right:20%\">\n",
       "    <p class=\"admonition-title pandastutor\">Let's visualize it! 🎥</p>\n",
       "    <div class=\"pandastutor inner\" style=\"height:700px;\">\n",
       "      <iframe frameborder=\"0\" scrolling=\"no\" src=\"https://pandastutor.com/vis.html#code=import%20pandas%20as%20pd%0Aimport%20io%0Aimport%20numpy%20as%20np%0Aimport%20random%20%0Anp.random.seed%2810%29%0Adf1%20%3D%20pd.DataFrame%28np.random.randn%286,%204%29,%0A%20%20%20%20%20%20%20%20%20%20%20%20%20%20%20%20%20%20%20index%3Dlist%28'abcdef'%29,%0A%20%20%20%20%20%20%20%20%20%20%20%20%20%20%20%20%20%20%20columns%3Dlist%28'ABCD'%29%29%0Adf1%0Adf1.loc%5Blambda%20df%3A%20df%5B'A'%5D%20%3E%200,%20%3A%5D&d=2023-07-14&lang=py&v=v1\"> </iframe>\n",
       "    </div>\n",
       "  </div>\n",
       "</div>\n"
      ],
      "text/plain": [
       "<IPython.core.display.HTML object>"
      ]
     },
     "metadata": {},
     "output_type": "display_data"
    }
   ],
   "source": [
    "from IPython.display import HTML\n",
    "\n",
    "display(\n",
    "    HTML(\n",
    "        \"\"\"\n",
    "\n",
    "\n",
    "<div class='full-width docutils' >\n",
    "  <div class=\"admonition note pandastutor\" name=\"html-admonition\" style=\"margin-right:20%\">\n",
    "    <p class=\"admonition-title pandastutor\">Let's visualize it! 🎥</p>\n",
    "    <div class=\"pandastutor inner\" style=\"height:700px;\">\n",
    "      <iframe frameborder=\"0\" scrolling=\"no\" src=\"https://pandastutor.com/vis.html#code=import%20pandas%20as%20pd%0Aimport%20io%0Aimport%20numpy%20as%20np%0Aimport%20random%20%0Anp.random.seed%2810%29%0Adf1%20%3D%20pd.DataFrame%28np.random.randn%286,%204%29,%0A%20%20%20%20%20%20%20%20%20%20%20%20%20%20%20%20%20%20%20index%3Dlist%28'abcdef'%29,%0A%20%20%20%20%20%20%20%20%20%20%20%20%20%20%20%20%20%20%20columns%3Dlist%28'ABCD'%29%29%0Adf1%0Adf1.loc%5Blambda%20df%3A%20df%5B'A'%5D%20%3E%200,%20%3A%5D&d=2023-07-14&lang=py&v=v1\"> </iframe>\n",
    "    </div>\n",
    "  </div>\n",
    "</div>\n",
    "\"\"\"\n",
    "    )\n",
    ")\n"
   ]
  },
  {
   "cell_type": "code",
   "execution_count": 71,
   "id": "ab18a18f",
   "metadata": {},
   "outputs": [
    {
     "data": {
      "text/html": [
       "<div>\n",
       "<style scoped>\n",
       "    .dataframe tbody tr th:only-of-type {\n",
       "        vertical-align: middle;\n",
       "    }\n",
       "\n",
       "    .dataframe tbody tr th {\n",
       "        vertical-align: top;\n",
       "    }\n",
       "\n",
       "    .dataframe thead th {\n",
       "        text-align: right;\n",
       "    }\n",
       "</style>\n",
       "<table border=\"1\" class=\"dataframe\">\n",
       "  <thead>\n",
       "    <tr style=\"text-align: right;\">\n",
       "      <th></th>\n",
       "      <th>A</th>\n",
       "      <th>B</th>\n",
       "    </tr>\n",
       "  </thead>\n",
       "  <tbody>\n",
       "    <tr>\n",
       "      <th>a</th>\n",
       "      <td>-0.174594</td>\n",
       "      <td>-0.149472</td>\n",
       "    </tr>\n",
       "    <tr>\n",
       "      <th>b</th>\n",
       "      <td>-0.559231</td>\n",
       "      <td>0.242706</td>\n",
       "    </tr>\n",
       "    <tr>\n",
       "      <th>c</th>\n",
       "      <td>-1.378454</td>\n",
       "      <td>-1.372184</td>\n",
       "    </tr>\n",
       "    <tr>\n",
       "      <th>d</th>\n",
       "      <td>1.101638</td>\n",
       "      <td>-0.245478</td>\n",
       "    </tr>\n",
       "    <tr>\n",
       "      <th>e</th>\n",
       "      <td>-0.408825</td>\n",
       "      <td>-2.121100</td>\n",
       "    </tr>\n",
       "    <tr>\n",
       "      <th>f</th>\n",
       "      <td>0.623980</td>\n",
       "      <td>0.421762</td>\n",
       "    </tr>\n",
       "  </tbody>\n",
       "</table>\n",
       "</div>"
      ],
      "text/plain": [
       "          A         B\n",
       "a -0.174594 -0.149472\n",
       "b -0.559231  0.242706\n",
       "c -1.378454 -1.372184\n",
       "d  1.101638 -0.245478\n",
       "e -0.408825 -2.121100\n",
       "f  0.623980  0.421762"
      ]
     },
     "execution_count": 71,
     "metadata": {},
     "output_type": "execute_result"
    }
   ],
   "source": [
    "df1.loc[:, lambda df: ['A', 'B']]"
   ]
  },
  {
   "cell_type": "code",
   "execution_count": 72,
   "id": "2166496e-975d-4539-a3b6-54cedd012e73",
   "metadata": {
    "tags": [
     "hide-cell"
    ]
   },
   "outputs": [
    {
     "data": {
      "text/html": [
       "\n",
       "\n",
       "\n",
       "<div class='full-width docutils' >\n",
       "  <div class=\"admonition note pandastutor\" name=\"html-admonition\" style=\"margin-right:20%\">\n",
       "    <p class=\"admonition-title pandastutor\">Let's visualize it! 🎥</p>\n",
       "    <div class=\"pandastutor inner\" style=\"height:700px;\">\n",
       "      <iframe frameborder=\"0\" scrolling=\"no\" src=\"https://pandastutor.com/vis.html#code=import%20pandas%20as%20pd%0Aimport%20io%0Aimport%20numpy%20as%20np%0Aimport%20random%0Anp.random.seed%2810%29%0Adf1%20%3D%20pd.DataFrame%28np.random.randn%286,%204%29,%0A%20%20%20%20%20%20%20%20%20%20%20%20%20%20%20%20%20%20%20index%3Dlist%28'abcdef'%29,%0A%20%20%20%20%20%20%20%20%20%20%20%20%20%20%20%20%20%20%20columns%3Dlist%28'ABCD'%29%29%0Adf1.loc%5B%3A,%20lambda%20df%3A%20%5B'A',%20'B'%5D%5D&d=2023-07-14&lang=py&v=v1\"> </iframe>\n",
       "    </div>\n",
       "  </div>\n",
       "</div>\n",
       "\n",
       "\n",
       "\n"
      ],
      "text/plain": [
       "<IPython.core.display.HTML object>"
      ]
     },
     "metadata": {},
     "output_type": "display_data"
    }
   ],
   "source": [
    "from IPython.display import HTML\n",
    "\n",
    "display(\n",
    "    HTML(\n",
    "        \"\"\"\n",
    "\n",
    "\n",
    "<div class='full-width docutils' >\n",
    "  <div class=\"admonition note pandastutor\" name=\"html-admonition\" style=\"margin-right:20%\">\n",
    "    <p class=\"admonition-title pandastutor\">Let's visualize it! 🎥</p>\n",
    "    <div class=\"pandastutor inner\" style=\"height:700px;\">\n",
    "      <iframe frameborder=\"0\" scrolling=\"no\" src=\"https://pandastutor.com/vis.html#code=import%20pandas%20as%20pd%0Aimport%20io%0Aimport%20numpy%20as%20np%0Aimport%20random%0Anp.random.seed%2810%29%0Adf1%20%3D%20pd.DataFrame%28np.random.randn%286,%204%29,%0A%20%20%20%20%20%20%20%20%20%20%20%20%20%20%20%20%20%20%20index%3Dlist%28'abcdef'%29,%0A%20%20%20%20%20%20%20%20%20%20%20%20%20%20%20%20%20%20%20columns%3Dlist%28'ABCD'%29%29%0Adf1.loc%5B%3A,%20lambda%20df%3A%20%5B'A',%20'B'%5D%5D&d=2023-07-14&lang=py&v=v1\"> </iframe>\n",
    "    </div>\n",
    "  </div>\n",
    "</div>\n",
    "\n",
    "\n",
    "\n",
    "\"\"\"\n",
    "    )\n",
    ")\n"
   ]
  },
  {
   "cell_type": "code",
   "execution_count": 73,
   "id": "aeb4a77e",
   "metadata": {},
   "outputs": [
    {
     "data": {
      "text/html": [
       "<div>\n",
       "<style scoped>\n",
       "    .dataframe tbody tr th:only-of-type {\n",
       "        vertical-align: middle;\n",
       "    }\n",
       "\n",
       "    .dataframe tbody tr th {\n",
       "        vertical-align: top;\n",
       "    }\n",
       "\n",
       "    .dataframe thead th {\n",
       "        text-align: right;\n",
       "    }\n",
       "</style>\n",
       "<table border=\"1\" class=\"dataframe\">\n",
       "  <thead>\n",
       "    <tr style=\"text-align: right;\">\n",
       "      <th></th>\n",
       "      <th>A</th>\n",
       "      <th>B</th>\n",
       "    </tr>\n",
       "  </thead>\n",
       "  <tbody>\n",
       "    <tr>\n",
       "      <th>a</th>\n",
       "      <td>-0.174594</td>\n",
       "      <td>-0.149472</td>\n",
       "    </tr>\n",
       "    <tr>\n",
       "      <th>b</th>\n",
       "      <td>-0.559231</td>\n",
       "      <td>0.242706</td>\n",
       "    </tr>\n",
       "    <tr>\n",
       "      <th>c</th>\n",
       "      <td>-1.378454</td>\n",
       "      <td>-1.372184</td>\n",
       "    </tr>\n",
       "    <tr>\n",
       "      <th>d</th>\n",
       "      <td>1.101638</td>\n",
       "      <td>-0.245478</td>\n",
       "    </tr>\n",
       "    <tr>\n",
       "      <th>e</th>\n",
       "      <td>-0.408825</td>\n",
       "      <td>-2.121100</td>\n",
       "    </tr>\n",
       "    <tr>\n",
       "      <th>f</th>\n",
       "      <td>0.623980</td>\n",
       "      <td>0.421762</td>\n",
       "    </tr>\n",
       "  </tbody>\n",
       "</table>\n",
       "</div>"
      ],
      "text/plain": [
       "          A         B\n",
       "a -0.174594 -0.149472\n",
       "b -0.559231  0.242706\n",
       "c -1.378454 -1.372184\n",
       "d  1.101638 -0.245478\n",
       "e -0.408825 -2.121100\n",
       "f  0.623980  0.421762"
      ]
     },
     "execution_count": 73,
     "metadata": {},
     "output_type": "execute_result"
    }
   ],
   "source": [
    "df1.iloc[:, lambda df: [0, 1]]"
   ]
  },
  {
   "cell_type": "code",
   "execution_count": 74,
   "id": "e8fe3be5-15de-4036-ab8a-d6483abf265f",
   "metadata": {
    "tags": [
     "hide-cell"
    ]
   },
   "outputs": [
    {
     "data": {
      "text/html": [
       "\n",
       "\n",
       "\n",
       "<div class='full-width docutils' >\n",
       "  <div class=\"admonition note pandastutor\" name=\"html-admonition\" style=\"margin-right:20%\">\n",
       "    <p class=\"admonition-title pandastutor\">Let's visualize it! 🎥</p>\n",
       "    <div class=\"pandastutor inner\" style=\"height:700px;\">\n",
       "      <iframe frameborder=\"0\" scrolling=\"no\" src=\"https://pandastutor.com/vis.html#code=import%20pandas%20as%20pd%0Aimport%20io%0Aimport%20numpy%20as%20np%0Aimport%20random%0Anp.random.seed%2810%29%0Adf1%20%3D%20pd.DataFrame%28np.random.randn%286,%204%29,%0A%20%20%20%20%20%20%20%20%20%20%20%20%20%20%20%20%20%20%20index%3Dlist%28'abcdef'%29,%0A%20%20%20%20%20%20%20%20%20%20%20%20%20%20%20%20%20%20%20columns%3Dlist%28'ABCD'%29%29%0Adf1.iloc%5B%3A,%20lambda%20df%3A%20%5B0,%201%5D%5D&d=2023-07-14&lang=py&v=v1\"> </iframe>\n",
       "    </div>\n",
       "  </div>\n",
       "</div>\n",
       "\n",
       "\n"
      ],
      "text/plain": [
       "<IPython.core.display.HTML object>"
      ]
     },
     "metadata": {},
     "output_type": "display_data"
    }
   ],
   "source": [
    "from IPython.display import HTML\n",
    "\n",
    "display(\n",
    "    HTML(\n",
    "        \"\"\"\n",
    "\n",
    "\n",
    "<div class='full-width docutils' >\n",
    "  <div class=\"admonition note pandastutor\" name=\"html-admonition\" style=\"margin-right:20%\">\n",
    "    <p class=\"admonition-title pandastutor\">Let's visualize it! 🎥</p>\n",
    "    <div class=\"pandastutor inner\" style=\"height:700px;\">\n",
    "      <iframe frameborder=\"0\" scrolling=\"no\" src=\"https://pandastutor.com/vis.html#code=import%20pandas%20as%20pd%0Aimport%20io%0Aimport%20numpy%20as%20np%0Aimport%20random%0Anp.random.seed%2810%29%0Adf1%20%3D%20pd.DataFrame%28np.random.randn%286,%204%29,%0A%20%20%20%20%20%20%20%20%20%20%20%20%20%20%20%20%20%20%20index%3Dlist%28'abcdef'%29,%0A%20%20%20%20%20%20%20%20%20%20%20%20%20%20%20%20%20%20%20columns%3Dlist%28'ABCD'%29%29%0Adf1.iloc%5B%3A,%20lambda%20df%3A%20%5B0,%201%5D%5D&d=2023-07-14&lang=py&v=v1\"> </iframe>\n",
    "    </div>\n",
    "  </div>\n",
    "</div>\n",
    "\n",
    "\n",
    "\"\"\"\n",
    "    )\n",
    ")\n"
   ]
  },
  {
   "cell_type": "code",
   "execution_count": 75,
   "id": "ec331b54",
   "metadata": {},
   "outputs": [
    {
     "data": {
      "text/plain": [
       "a   -0.174594\n",
       "b   -0.559231\n",
       "c   -1.378454\n",
       "d    1.101638\n",
       "e   -0.408825\n",
       "f    0.623980\n",
       "Name: A, dtype: float64"
      ]
     },
     "execution_count": 75,
     "metadata": {},
     "output_type": "execute_result"
    }
   ],
   "source": [
    "df1[lambda df: df.columns[0]]"
   ]
  },
  {
   "cell_type": "code",
   "execution_count": 76,
   "id": "31840764-a775-4e5f-8023-6c4762005ff6",
   "metadata": {
    "tags": [
     "hide-cell"
    ]
   },
   "outputs": [
    {
     "data": {
      "text/html": [
       "\n",
       "\n",
       "\n",
       "<div class='full-width docutils' >\n",
       "  <div class=\"admonition note pandastutor\" name=\"html-admonition\" style=\"margin-right:20%\">\n",
       "    <p class=\"admonition-title pandastutor\">Let's visualize it! 🎥</p>\n",
       "    <div class=\"pandastutor inner\" style=\"height:650px;\">\n",
       "      <iframe frameborder=\"0\" scrolling=\"no\" src=\"https://pandastutor.com/vis.html#code=import%20pandas%20as%20pd%0Aimport%20io%0Aimport%20numpy%20as%20np%0Aimport%20random%0Anp.random.seed%2810%29%0Adf1%20%3D%20pd.DataFrame%28np.random.randn%286,%204%29,%0A%20%20%20%20%20%20%20%20%20%20%20%20%20%20%20%20%20%20%20index%3Dlist%28'abcdef'%29,%0A%20%20%20%20%20%20%20%20%20%20%20%20%20%20%20%20%20%20%20columns%3Dlist%28'ABCD'%29%29%0Adf1%5Blambda%20df%3A%20df.columns%5B0%5D%5D&d=2023-07-14&lang=py&v=v1\"> </iframe>\n",
       "    </div>\n",
       "  </div>\n",
       "</div>\n",
       "\n"
      ],
      "text/plain": [
       "<IPython.core.display.HTML object>"
      ]
     },
     "metadata": {},
     "output_type": "display_data"
    }
   ],
   "source": [
    "from IPython.display import HTML\n",
    "\n",
    "display(\n",
    "    HTML(\n",
    "        \"\"\"\n",
    "\n",
    "\n",
    "<div class='full-width docutils' >\n",
    "  <div class=\"admonition note pandastutor\" name=\"html-admonition\" style=\"margin-right:20%\">\n",
    "    <p class=\"admonition-title pandastutor\">Let's visualize it! 🎥</p>\n",
    "    <div class=\"pandastutor inner\" style=\"height:650px;\">\n",
    "      <iframe frameborder=\"0\" scrolling=\"no\" src=\"https://pandastutor.com/vis.html#code=import%20pandas%20as%20pd%0Aimport%20io%0Aimport%20numpy%20as%20np%0Aimport%20random%0Anp.random.seed%2810%29%0Adf1%20%3D%20pd.DataFrame%28np.random.randn%286,%204%29,%0A%20%20%20%20%20%20%20%20%20%20%20%20%20%20%20%20%20%20%20index%3Dlist%28'abcdef'%29,%0A%20%20%20%20%20%20%20%20%20%20%20%20%20%20%20%20%20%20%20columns%3Dlist%28'ABCD'%29%29%0Adf1%5Blambda%20df%3A%20df.columns%5B0%5D%5D&d=2023-07-14&lang=py&v=v1\"> </iframe>\n",
    "    </div>\n",
    "  </div>\n",
    "</div>\n",
    "\n",
    "\"\"\"\n",
    "    )\n",
    ")\n"
   ]
  },
  {
   "cell_type": "markdown",
   "id": "861f0e5e",
   "metadata": {},
   "source": [
    "\n",
    "You can use callable indexing in `Series`."
   ]
  },
  {
   "cell_type": "code",
   "execution_count": 77,
   "id": "d4e60491",
   "metadata": {},
   "outputs": [
    {
     "data": {
      "text/plain": [
       "d    1.101638\n",
       "f    0.623980\n",
       "Name: A, dtype: float64"
      ]
     },
     "execution_count": 77,
     "metadata": {},
     "output_type": "execute_result"
    }
   ],
   "source": [
    "df1['A'].loc[lambda s: s > 0]"
   ]
  },
  {
   "cell_type": "code",
   "execution_count": 78,
   "id": "1d7a46f1-98ce-4d87-924a-288812c6b4ed",
   "metadata": {
    "tags": [
     "hide-cell"
    ]
   },
   "outputs": [
    {
     "data": {
      "text/html": [
       "\n",
       "\n",
       "\n",
       "<div class='full-width docutils' >\n",
       "  <div class=\"admonition note pandastutor\" name=\"html-admonition\" style=\"margin-right:20%\">\n",
       "    <p class=\"admonition-title pandastutor\">Let's visualize it! 🎥</p>\n",
       "    <div class=\"pandastutor inner\" style=\"height:920px;\">\n",
       "      <iframe frameborder=\"0\" scrolling=\"no\" src=\"https://pandastutor.com/vis.html#code=import%20pandas%20as%20pd%0Aimport%20io%0Aimport%20numpy%20as%20np%0Aimport%20random%0Anp.random.seed%2810%29%0Adf1%20%3D%20pd.DataFrame%28np.random.randn%286,%204%29,%0A%20%20%20%20%20%20%20%20%20%20%20%20%20%20%20%20%20%20%20index%3Dlist%28'abcdef'%29,%0A%20%20%20%20%20%20%20%20%20%20%20%20%20%20%20%20%20%20%20columns%3Dlist%28'ABCD'%29%29%0Adf1%5B'A'%5D.loc%5Blambda%20s%3A%20s%20%3E%200%5D&d=2023-07-14&lang=py&v=v1\"> </iframe>\n",
       "    </div>\n",
       "  </div>\n",
       "</div>\n",
       "\n"
      ],
      "text/plain": [
       "<IPython.core.display.HTML object>"
      ]
     },
     "metadata": {},
     "output_type": "display_data"
    }
   ],
   "source": [
    "from IPython.display import HTML\n",
    "\n",
    "display(\n",
    "    HTML(\n",
    "        \"\"\"\n",
    "\n",
    "\n",
    "<div class='full-width docutils' >\n",
    "  <div class=\"admonition note pandastutor\" name=\"html-admonition\" style=\"margin-right:20%\">\n",
    "    <p class=\"admonition-title pandastutor\">Let's visualize it! 🎥</p>\n",
    "    <div class=\"pandastutor inner\" style=\"height:920px;\">\n",
    "      <iframe frameborder=\"0\" scrolling=\"no\" src=\"https://pandastutor.com/vis.html#code=import%20pandas%20as%20pd%0Aimport%20io%0Aimport%20numpy%20as%20np%0Aimport%20random%0Anp.random.seed%2810%29%0Adf1%20%3D%20pd.DataFrame%28np.random.randn%286,%204%29,%0A%20%20%20%20%20%20%20%20%20%20%20%20%20%20%20%20%20%20%20index%3Dlist%28'abcdef'%29,%0A%20%20%20%20%20%20%20%20%20%20%20%20%20%20%20%20%20%20%20columns%3Dlist%28'ABCD'%29%29%0Adf1%5B'A'%5D.loc%5Blambda%20s%3A%20s%20%3E%200%5D&d=2023-07-14&lang=py&v=v1\"> </iframe>\n",
    "    </div>\n",
    "  </div>\n",
    "</div>\n",
    "\n",
    "\"\"\"\n",
    "    )\n",
    ")\n"
   ]
  },
  {
   "cell_type": "markdown",
   "id": "12d2d96d",
   "metadata": {},
   "source": [
    "\n",
    "### Combining positional and label-based indexing\n",
    "\n",
    "If you wish to get the 0th and the 2nd elements from the index in the `'A'` column, you can do:"
   ]
  },
  {
   "cell_type": "code",
   "execution_count": 79,
   "id": "978312bb",
   "metadata": {},
   "outputs": [
    {
     "data": {
      "text/plain": [
       "a    1\n",
       "c    3\n",
       "Name: A, dtype: int64"
      ]
     },
     "execution_count": 79,
     "metadata": {},
     "output_type": "execute_result"
    }
   ],
   "source": [
    "dfd = pd.DataFrame({'A': [1, 2, 3],\n",
    "                    'B': [4, 5, 6]},\n",
    "                   index=list('abc'))\n",
    "dfd\n",
    "dfd.loc[dfd.index[[0, 2]], 'A']"
   ]
  },
  {
   "cell_type": "code",
   "execution_count": 80,
   "id": "a8844d1c-fdc5-4c85-923c-092ac6367692",
   "metadata": {
    "tags": [
     "hide-cell"
    ]
   },
   "outputs": [
    {
     "data": {
      "text/html": [
       "\n",
       "\n",
       "\n",
       "<div class='full-width docutils' >\n",
       "  <div class=\"admonition note pandastutor\" name=\"html-admonition\" style=\"margin-right:20%\">\n",
       "    <p class=\"admonition-title pandastutor\">Let's visualize it! 🎥</p>\n",
       "    <div class=\"pandastutor inner\" style=\"height:550px;\">\n",
       "      <iframe frameborder=\"0\" scrolling=\"no\" src=\"https://pandastutor.com/vis.html#code=import%20pandas%20as%20pd%0Aimport%20io%0Adfd%20%3D%20pd.DataFrame%28%7B'A'%3A%20%5B1,%202,%203%5D,%0A%20%20%20%20%20%20%20%20%20%20%20%20%20%20%20%20%20%20%20%20'B'%3A%20%5B4,%205,%206%5D%7D,%0A%20%20%20%20%20%20%20%20%20%20%20%20%20%20%20%20%20%20%20index%3Dlist%28'abc'%29%29%0Adfd.loc%5Bdfd.index%5B%5B0,%202%5D%5D,%20'A'%5D&d=2023-07-14&lang=py&v=v1\"> </iframe>\n",
       "    </div>\n",
       "  </div>\n",
       "</div>\n",
       "\n"
      ],
      "text/plain": [
       "<IPython.core.display.HTML object>"
      ]
     },
     "metadata": {},
     "output_type": "display_data"
    }
   ],
   "source": [
    "from IPython.display import HTML\n",
    "\n",
    "display(\n",
    "    HTML(\n",
    "        \"\"\"\n",
    "\n",
    "\n",
    "<div class='full-width docutils' >\n",
    "  <div class=\"admonition note pandastutor\" name=\"html-admonition\" style=\"margin-right:20%\">\n",
    "    <p class=\"admonition-title pandastutor\">Let's visualize it! 🎥</p>\n",
    "    <div class=\"pandastutor inner\" style=\"height:550px;\">\n",
    "      <iframe frameborder=\"0\" scrolling=\"no\" src=\"https://pandastutor.com/vis.html#code=import%20pandas%20as%20pd%0Aimport%20io%0Adfd%20%3D%20pd.DataFrame%28%7B'A'%3A%20%5B1,%202,%203%5D,%0A%20%20%20%20%20%20%20%20%20%20%20%20%20%20%20%20%20%20%20%20'B'%3A%20%5B4,%205,%206%5D%7D,%0A%20%20%20%20%20%20%20%20%20%20%20%20%20%20%20%20%20%20%20index%3Dlist%28'abc'%29%29%0Adfd.loc%5Bdfd.index%5B%5B0,%202%5D%5D,%20'A'%5D&d=2023-07-14&lang=py&v=v1\"> </iframe>\n",
    "    </div>\n",
    "  </div>\n",
    "</div>\n",
    "\n",
    "\"\"\"\n",
    "    )\n",
    ")\n"
   ]
  },
  {
   "cell_type": "markdown",
   "id": "11210c0d",
   "metadata": {},
   "source": [
    "\n",
    "This can also be expressed using `.iloc`, by explicitly getting locations on the indexers, and using positional indexing to select things."
   ]
  },
  {
   "cell_type": "code",
   "execution_count": 81,
   "id": "2e7e25d2",
   "metadata": {},
   "outputs": [
    {
     "data": {
      "text/plain": [
       "a    1\n",
       "c    3\n",
       "Name: A, dtype: int64"
      ]
     },
     "execution_count": 81,
     "metadata": {},
     "output_type": "execute_result"
    }
   ],
   "source": [
    "dfd.iloc[[0, 2], dfd.columns.get_loc('A')]"
   ]
  },
  {
   "cell_type": "code",
   "execution_count": 82,
   "id": "48f7feb0-9334-441f-893a-42815523e739",
   "metadata": {
    "tags": [
     "hide-cell"
    ]
   },
   "outputs": [
    {
     "data": {
      "text/html": [
       "\n",
       "\n",
       "\n",
       "<div class='full-width docutils' >\n",
       "  <div class=\"admonition note pandastutor\" name=\"html-admonition\" style=\"margin-right:20%\">\n",
       "    <p class=\"admonition-title pandastutor\">Let's visualize it! 🎥</p>\n",
       "    <div class=\"pandastutor inner\" style=\"height:550px;\">\n",
       "      <iframe frameborder=\"0\" scrolling=\"no\" src=\"https://pandastutor.com/vis.html#code=import%20pandas%20as%20pd%0Aimport%20io%0Adfd%20%3D%20pd.DataFrame%28%7B'A'%3A%20%5B1,%202,%203%5D,%0A%20%20%20%20%20%20%20%20%20%20%20%20%20%20%20%20%20%20%20%20'B'%3A%20%5B4,%205,%206%5D%7D,%0A%20%20%20%20%20%20%20%20%20%20%20%20%20%20%20%20%20%20%20index%3Dlist%28'abc'%29%29%0Adfd.iloc%5B%5B0,%202%5D,%20dfd.columns.get_loc%28'A'%29%5D&d=2023-07-14&lang=py&v=v1\"> </iframe>\n",
       "    </div>\n",
       "  </div>\n",
       "</div>\n",
       "\n",
       "\n",
       "\n"
      ],
      "text/plain": [
       "<IPython.core.display.HTML object>"
      ]
     },
     "metadata": {},
     "output_type": "display_data"
    }
   ],
   "source": [
    "from IPython.display import HTML\n",
    "\n",
    "display(\n",
    "    HTML(\n",
    "        \"\"\"\n",
    "\n",
    "\n",
    "<div class='full-width docutils' >\n",
    "  <div class=\"admonition note pandastutor\" name=\"html-admonition\" style=\"margin-right:20%\">\n",
    "    <p class=\"admonition-title pandastutor\">Let's visualize it! 🎥</p>\n",
    "    <div class=\"pandastutor inner\" style=\"height:550px;\">\n",
    "      <iframe frameborder=\"0\" scrolling=\"no\" src=\"https://pandastutor.com/vis.html#code=import%20pandas%20as%20pd%0Aimport%20io%0Adfd%20%3D%20pd.DataFrame%28%7B'A'%3A%20%5B1,%202,%203%5D,%0A%20%20%20%20%20%20%20%20%20%20%20%20%20%20%20%20%20%20%20%20'B'%3A%20%5B4,%205,%206%5D%7D,%0A%20%20%20%20%20%20%20%20%20%20%20%20%20%20%20%20%20%20%20index%3Dlist%28'abc'%29%29%0Adfd.iloc%5B%5B0,%202%5D,%20dfd.columns.get_loc%28'A'%29%5D&d=2023-07-14&lang=py&v=v1\"> </iframe>\n",
    "    </div>\n",
    "  </div>\n",
    "</div>\n",
    "\n",
    "\n",
    "\n",
    "\"\"\"\n",
    "    )\n",
    ")\n"
   ]
  },
  {
   "cell_type": "markdown",
   "id": "d6c36e79",
   "metadata": {},
   "source": [
    "\n",
    "For getting multiple indexers, using `.get_indexer`:"
   ]
  },
  {
   "cell_type": "code",
   "execution_count": 83,
   "id": "7c0b22e6",
   "metadata": {},
   "outputs": [
    {
     "data": {
      "text/html": [
       "<div>\n",
       "<style scoped>\n",
       "    .dataframe tbody tr th:only-of-type {\n",
       "        vertical-align: middle;\n",
       "    }\n",
       "\n",
       "    .dataframe tbody tr th {\n",
       "        vertical-align: top;\n",
       "    }\n",
       "\n",
       "    .dataframe thead th {\n",
       "        text-align: right;\n",
       "    }\n",
       "</style>\n",
       "<table border=\"1\" class=\"dataframe\">\n",
       "  <thead>\n",
       "    <tr style=\"text-align: right;\">\n",
       "      <th></th>\n",
       "      <th>A</th>\n",
       "      <th>B</th>\n",
       "    </tr>\n",
       "  </thead>\n",
       "  <tbody>\n",
       "    <tr>\n",
       "      <th>a</th>\n",
       "      <td>1</td>\n",
       "      <td>4</td>\n",
       "    </tr>\n",
       "    <tr>\n",
       "      <th>c</th>\n",
       "      <td>3</td>\n",
       "      <td>6</td>\n",
       "    </tr>\n",
       "  </tbody>\n",
       "</table>\n",
       "</div>"
      ],
      "text/plain": [
       "   A  B\n",
       "a  1  4\n",
       "c  3  6"
      ]
     },
     "execution_count": 83,
     "metadata": {},
     "output_type": "execute_result"
    }
   ],
   "source": [
    "dfd.iloc[[0, 2], dfd.columns.get_indexer(['A', 'B'])]"
   ]
  },
  {
   "cell_type": "code",
   "execution_count": 84,
   "id": "c0924629-67d8-43b6-a435-d91bb8bf6408",
   "metadata": {
    "tags": [
     "hide-cell"
    ]
   },
   "outputs": [
    {
     "data": {
      "text/html": [
       "\n",
       "\n",
       "\n",
       "<div class='full-width docutils' >\n",
       "  <div class=\"admonition note pandastutor\" name=\"html-admonition\" style=\"margin-right:20%\">\n",
       "    <p class=\"admonition-title pandastutor\">Let's visualize it! 🎥</p>\n",
       "    <div class=\"pandastutor inner\" style=\"height:550px;\">\n",
       "      <iframe frameborder=\"0\" scrolling=\"no\" src=\"https://pandastutor.com/vis.html#code=import%20pandas%20as%20pd%0Aimport%20io%0Adfd%20%3D%20pd.DataFrame%28%7B'A'%3A%20%5B1,%202,%203%5D,%0A%20%20%20%20%20%20%20%20%20%20%20%20%20%20%20%20%20%20%20%20'B'%3A%20%5B4,%205,%206%5D%7D,%0A%20%20%20%20%20%20%20%20%20%20%20%20%20%20%20%20%20%20%20index%3Dlist%28'abc'%29%29%0Adfd.iloc%5B%5B0,%202%5D,%20dfd.columns.get_indexer%28%5B'A',%20'B'%5D%29%5D&d=2023-07-14&lang=py&v=v1\"> </iframe>\n",
       "    </div>\n",
       "  </div>\n",
       "</div>\n",
       "\n",
       "\n"
      ],
      "text/plain": [
       "<IPython.core.display.HTML object>"
      ]
     },
     "metadata": {},
     "output_type": "display_data"
    }
   ],
   "source": [
    "from IPython.display import HTML\n",
    "\n",
    "display(\n",
    "    HTML(\n",
    "        \"\"\"\n",
    "\n",
    "\n",
    "<div class='full-width docutils' >\n",
    "  <div class=\"admonition note pandastutor\" name=\"html-admonition\" style=\"margin-right:20%\">\n",
    "    <p class=\"admonition-title pandastutor\">Let's visualize it! 🎥</p>\n",
    "    <div class=\"pandastutor inner\" style=\"height:550px;\">\n",
    "      <iframe frameborder=\"0\" scrolling=\"no\" src=\"https://pandastutor.com/vis.html#code=import%20pandas%20as%20pd%0Aimport%20io%0Adfd%20%3D%20pd.DataFrame%28%7B'A'%3A%20%5B1,%202,%203%5D,%0A%20%20%20%20%20%20%20%20%20%20%20%20%20%20%20%20%20%20%20%20'B'%3A%20%5B4,%205,%206%5D%7D,%0A%20%20%20%20%20%20%20%20%20%20%20%20%20%20%20%20%20%20%20index%3Dlist%28'abc'%29%29%0Adfd.iloc%5B%5B0,%202%5D,%20dfd.columns.get_indexer%28%5B'A',%20'B'%5D%29%5D&d=2023-07-14&lang=py&v=v1\"> </iframe>\n",
    "    </div>\n",
    "  </div>\n",
    "</div>\n",
    "\n",
    "\n",
    "\"\"\"\n",
    "    )\n",
    ")\n"
   ]
  },
  {
   "cell_type": "markdown",
   "id": "d97622c3-93dd-44af-94cb-9b4e4401b11b",
   "metadata": {},
   "source": [
    "## Acknowledgments\n",
    "\n",
    "Thanks for [Pandas user guide](https://pandas.pydata.org/docs/user_guide/index.html). It contributes the majority of the content in this chapter."
   ]
  }
 ],
 "metadata": {
  "kernelspec": {
   "display_name": "Python 3 (ipykernel)",
   "language": "python",
   "name": "python3"
  },
  "language_info": {
   "codemirror_mode": {
    "name": "ipython",
    "version": 3
   },
   "file_extension": ".py",
   "mimetype": "text/x-python",
   "name": "python",
   "nbconvert_exporter": "python",
   "pygments_lexer": "ipython3",
   "version": "3.9.18"
  }
 },
 "nbformat": 4,
 "nbformat_minor": 5
}
